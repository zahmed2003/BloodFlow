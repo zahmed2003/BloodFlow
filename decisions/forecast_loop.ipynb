{
 "cells": [
  {
   "cell_type": "code",
   "execution_count": 51,
   "id": "4f5802f4-0f35-48e8-8c33-db8e8bb6132b",
   "metadata": {},
   "outputs": [],
   "source": [
    "import numpy as np\n",
    "import matplotlib.pyplot as plt\n",
    "import cvxpy as cp\n",
    "import networkx as nx\n",
    "import pandas as pd\n",
    "from sklearn.linear_model import LinearRegression"
   ]
  },
  {
   "cell_type": "code",
   "execution_count": 79,
   "id": "449912b2-7410-40f3-9f73-2213b6146fc5",
   "metadata": {},
   "outputs": [],
   "source": [
    "# helper method for getting next step, returning the action to take, the supply in the next step, and the loan\n",
    "def get_next_step(W,b_max,Q_max,B_init,forecast,gamma=0.999,alpha=1.0):\n",
    "\n",
    "    S = forecast[:,:,0]\n",
    "    D = forecast[:,:,1]\n",
    "    N = len(S)\n",
    "    F = len(S[0])\n",
    "    G = np.diag(gamma**np.arange(F))\n",
    "    \n",
    "    B = cp.Variable([N,F+1])\n",
    "    Q = cp.Variable([N,N,F])\n",
    "    M = cp.Variable([N,F])\n",
    "    \n",
    "    obj_func = cp.sum([cp.norm(G@m_k,1) for m_k in M]) + alpha*cp.sum([cp.norm(cp.multiply(W,Q[:,:,t]),2) for t in range(F)])\n",
    "    obj = cp.Minimize(obj_func)\n",
    "    \n",
    "    constr =  []\n",
    "    \n",
    "    # IC\n",
    "    constr += [B[:,0] == B_init]\n",
    "    # constr += [M>=0]\n",
    "    \n",
    "    \n",
    "    # max storage\n",
    "    for t in range(F+1):\n",
    "        constr +=[B[:,t]<=b_max]\n",
    "        \n",
    "    # dynamics    \n",
    "    for t in range(F):\n",
    "        for k in range(N):\n",
    "            constr += [B[k,t+1] == B[k,t] + S[k,t] - D[k,t] + cp.sum(Q[k,:,t])+ M[k,t]]\n",
    "    \n",
    "    # storage constraints\n",
    "    for t in range(F+1):\n",
    "        constr +=[0<= B[:,t]]\n",
    "    \n",
    "    \n",
    "    ##### shipments\n",
    "    for k in range(N):\n",
    "        for l in range(N):\n",
    "            constr +=[Q[k,l] == -Q[l,k]]\n",
    "    \n",
    "    for k in range(N):\n",
    "        for t in range(F):\n",
    "            constr += [cp.sum(Q[:,k,t]) <= B[k,t]]\n",
    "    \n",
    "    constr += [cp.norm(Q,'inf') <= Q_max]\n",
    "    \n",
    "    prob = cp.Problem(obj,constr)\n",
    "    prob.solve()\n",
    "    \n",
    "    Q_opt = Q.value\n",
    "    B_opt = B[:,1:].value\n",
    "    M_opt = M.value\n",
    "\n",
    "    return Q_opt[:,:,0],M_opt[:,0]"
   ]
  },
  {
   "cell_type": "code",
   "execution_count": 80,
   "id": "613aa1f0-8eac-4404-a0d5-ddad645867bf",
   "metadata": {},
   "outputs": [],
   "source": [
    "def forecast_loop(data,B_init,test_length,W,b_max,Q_max,forecaster,model,f=7,h=7,gamma=0.999,alpha=1.0,*args):\n",
    "    data_real = data[:,-test_length:,:] # N x test_length x 2\n",
    "    offset = len(data[0]) - test_length\n",
    "\n",
    "    Q_mat = []\n",
    "    B_mat = [B_init]\n",
    "    M_mat = []\n",
    "    \n",
    "    for t in range(test_length - f):\n",
    "        history = data[:,offset + t-h+1:offset + t+1,:]\n",
    "        forecast = forecaster(model,history,*args) # N x f x 2\n",
    "        Q_next,M_next = get_next_step(W,b_max,Q_max,B_mat[t],forecast,gamma,alpha)\n",
    "        Q_mat.append(Q_next)\n",
    "        M_mat.append(M_next)\n",
    "\n",
    "        supply_real_offset = data_real[:, t+1, 0]\n",
    "        demand_real_offset = data_real[:, t+1, 1]\n",
    "        Q_next_sum = np.sum(Q_next, axis=1)\n",
    "        \n",
    "        B_next = B_mat[t][:] + supply_real_offset - demand_real_offset + Q_next_sum + M_next\n",
    "        B_mat.append(B_next)\n",
    "\n",
    "        print(B_next)\n",
    "\n",
    "    return Q_mat,B_mat,M_mat"
   ]
  },
  {
   "cell_type": "markdown",
   "id": "e2aee311-d9cf-4b89-b09f-bec2c332a1b9",
   "metadata": {},
   "source": [
    "#### testing the loop on the AR forecaster"
   ]
  },
  {
   "cell_type": "code",
   "execution_count": 81,
   "id": "0cd58c21-d4b6-44cf-9f10-407924d9dd57",
   "metadata": {},
   "outputs": [],
   "source": [
    "# importing data\n",
    "experiment_type = \"small\"\n",
    "data_directory = '../data/experiment_' + experiment_type + '/'\n",
    "data = np.load(data_directory + 'network_params/data_network.npy')\n",
    "data = np.transpose(data, (1,2, 0))\n",
    "\n",
    "B_init = np.zeros(len(data))\n",
    "f = 7\n",
    "test_length = 365\n",
    "\n",
    "G = nx.read_graphml(data_directory + \"network_params/graph.graphml\")\n",
    "W = nx.to_numpy_array(G,weight='weight')\n",
    "\n",
    "b_max = 2000*np.ones(len(data))\n",
    "Q_max = 50\n",
    "h=7\n",
    "gamma=0.999\n",
    "alpha=1.0"
   ]
  },
  {
   "cell_type": "code",
   "execution_count": 82,
   "id": "a0e23f59-f931-4797-81c7-d068f3bc4b29",
   "metadata": {},
   "outputs": [],
   "source": [
    "def data_slice(data, h, f):\n",
    "    T = h + f\n",
    "    samples = np.array([data[:,t:t + T,:] for t in range(len(data[0]) - T + 1)])\n",
    "    return samples[:, :, :h, :], samples[:, : , h:, :]\n",
    "\n",
    "def fit_AR_forecaster(hist_samples, future_samples):\n",
    "  \n",
    "    m, N, h, _ = hist_samples.shape\n",
    "    _, _, f, _ = future_samples.shape\n",
    "    \n",
    "    hist_sample_matrix = hist_samples.reshape(m * N, h * 2)\n",
    "    future_sample_matrix = future_samples.reshape(m * N, f * 2)\n",
    "    \n",
    "    model = LinearRegression()\n",
    "    model.fit(hist_sample_matrix, future_sample_matrix)\n",
    "\n",
    "    return model\n",
    "\n",
    "def get_AR_forecast(AR_model, history):\n",
    "    N, h, _ = history.shape\n",
    "    f = len(AR_model.intercept_)//2\n",
    "    history = history.reshape(N, 2 * h)\n",
    "\n",
    "    forecast = AR_model.predict(history)\n",
    "    return forecast.reshape(N,f,2)"
   ]
  },
  {
   "cell_type": "code",
   "execution_count": 83,
   "id": "292f69b8-89f2-4689-9be2-0cce711cad22",
   "metadata": {},
   "outputs": [],
   "source": [
    "data_train = data[:,:-3*test_length,:]\n",
    "hist_train, future_train = data_slice(data_train, h = h, f = f)\n",
    "AR_model = fit_AR_forecaster(hist_train, future_train)"
   ]
  },
  {
   "cell_type": "code",
   "execution_count": 84,
   "id": "3308714b-563f-4454-bb71-cbb4580bf057",
   "metadata": {},
   "outputs": [
    {
     "name": "stderr",
     "output_type": "stream",
     "text": [
      "/usr/local/Caskroom/miniconda/base/envs/bloodflow/lib/python3.12/site-packages/cvxpy/reductions/solvers/solving_chain.py:418: UserWarning: The problem has an expression with dimension greater than 2. Defaulting to the SCIPY backend for canonicalization.\n",
      "  warnings.warn(UserWarning(\n"
     ]
    },
    {
     "name": "stdout",
     "output_type": "stream",
     "text": [
      "[66.31526753 89.06088711 14.58766297 11.7863382 ]\n"
     ]
    },
    {
     "name": "stderr",
     "output_type": "stream",
     "text": [
      "/usr/local/Caskroom/miniconda/base/envs/bloodflow/lib/python3.12/site-packages/cvxpy/reductions/solvers/solving_chain.py:418: UserWarning: The problem has an expression with dimension greater than 2. Defaulting to the SCIPY backend for canonicalization.\n",
      "  warnings.warn(UserWarning(\n"
     ]
    },
    {
     "name": "stdout",
     "output_type": "stream",
     "text": [
      "[140.44878833 188.38629289  31.23140448  24.65896952]\n"
     ]
    },
    {
     "name": "stderr",
     "output_type": "stream",
     "text": [
      "/usr/local/Caskroom/miniconda/base/envs/bloodflow/lib/python3.12/site-packages/cvxpy/reductions/solvers/solving_chain.py:418: UserWarning: The problem has an expression with dimension greater than 2. Defaulting to the SCIPY backend for canonicalization.\n",
      "  warnings.warn(UserWarning(\n"
     ]
    },
    {
     "name": "stdout",
     "output_type": "stream",
     "text": [
      "[203.43174837 275.00975061  44.39230927  35.64669479]\n"
     ]
    },
    {
     "name": "stderr",
     "output_type": "stream",
     "text": [
      "/usr/local/Caskroom/miniconda/base/envs/bloodflow/lib/python3.12/site-packages/cvxpy/reductions/solvers/solving_chain.py:418: UserWarning: The problem has an expression with dimension greater than 2. Defaulting to the SCIPY backend for canonicalization.\n",
      "  warnings.warn(UserWarning(\n"
     ]
    },
    {
     "name": "stdout",
     "output_type": "stream",
     "text": [
      "[268.86223671 365.13947976  58.20862921  47.00526578]\n"
     ]
    },
    {
     "name": "stderr",
     "output_type": "stream",
     "text": [
      "/usr/local/Caskroom/miniconda/base/envs/bloodflow/lib/python3.12/site-packages/cvxpy/reductions/solvers/solving_chain.py:418: UserWarning: The problem has an expression with dimension greater than 2. Defaulting to the SCIPY backend for canonicalization.\n",
      "  warnings.warn(UserWarning(\n"
     ]
    },
    {
     "name": "stdout",
     "output_type": "stream",
     "text": [
      "[325.3251602  444.90219975  69.40222409  56.99085684]\n"
     ]
    },
    {
     "name": "stderr",
     "output_type": "stream",
     "text": [
      "/usr/local/Caskroom/miniconda/base/envs/bloodflow/lib/python3.12/site-packages/cvxpy/reductions/solvers/solving_chain.py:418: UserWarning: The problem has an expression with dimension greater than 2. Defaulting to the SCIPY backend for canonicalization.\n",
      "  warnings.warn(UserWarning(\n"
     ]
    },
    {
     "name": "stdout",
     "output_type": "stream",
     "text": [
      "[386.7988476  531.14225246  81.96594715  67.70191846]\n"
     ]
    },
    {
     "name": "stderr",
     "output_type": "stream",
     "text": [
      "/usr/local/Caskroom/miniconda/base/envs/bloodflow/lib/python3.12/site-packages/cvxpy/reductions/solvers/solving_chain.py:418: UserWarning: The problem has an expression with dimension greater than 2. Defaulting to the SCIPY backend for canonicalization.\n",
      "  warnings.warn(UserWarning(\n"
     ]
    },
    {
     "name": "stdout",
     "output_type": "stream",
     "text": [
      "[453.33056697 623.87698234  95.88581117  79.11783536]\n"
     ]
    },
    {
     "name": "stderr",
     "output_type": "stream",
     "text": [
      "/usr/local/Caskroom/miniconda/base/envs/bloodflow/lib/python3.12/site-packages/cvxpy/reductions/solvers/solving_chain.py:418: UserWarning: The problem has an expression with dimension greater than 2. Defaulting to the SCIPY backend for canonicalization.\n",
      "  warnings.warn(UserWarning(\n"
     ]
    },
    {
     "name": "stdout",
     "output_type": "stream",
     "text": [
      "[533.28008493 732.99883966 113.8361181   92.7263451 ]\n"
     ]
    },
    {
     "name": "stderr",
     "output_type": "stream",
     "text": [
      "/usr/local/Caskroom/miniconda/base/envs/bloodflow/lib/python3.12/site-packages/cvxpy/reductions/solvers/solving_chain.py:418: UserWarning: The problem has an expression with dimension greater than 2. Defaulting to the SCIPY backend for canonicalization.\n",
      "  warnings.warn(UserWarning(\n"
     ]
    },
    {
     "name": "stdout",
     "output_type": "stream",
     "text": [
      "[609.68492584 838.22553983 130.5264854  105.58970141]\n"
     ]
    },
    {
     "name": "stderr",
     "output_type": "stream",
     "text": [
      "/usr/local/Caskroom/miniconda/base/envs/bloodflow/lib/python3.12/site-packages/cvxpy/reductions/solvers/solving_chain.py:418: UserWarning: The problem has an expression with dimension greater than 2. Defaulting to the SCIPY backend for canonicalization.\n",
      "  warnings.warn(UserWarning(\n"
     ]
    },
    {
     "name": "stdout",
     "output_type": "stream",
     "text": [
      "[682.24132196 939.14436086 145.90229204 117.6789862 ]\n"
     ]
    },
    {
     "name": "stderr",
     "output_type": "stream",
     "text": [
      "/usr/local/Caskroom/miniconda/base/envs/bloodflow/lib/python3.12/site-packages/cvxpy/reductions/solvers/solving_chain.py:418: UserWarning: The problem has an expression with dimension greater than 2. Defaulting to the SCIPY backend for canonicalization.\n",
      "  warnings.warn(UserWarning(\n"
     ]
    },
    {
     "name": "stdout",
     "output_type": "stream",
     "text": [
      "[ 758.55346106 1044.70760496  162.51531928  130.44163055]\n"
     ]
    },
    {
     "name": "stderr",
     "output_type": "stream",
     "text": [
      "/usr/local/Caskroom/miniconda/base/envs/bloodflow/lib/python3.12/site-packages/cvxpy/reductions/solvers/solving_chain.py:418: UserWarning: The problem has an expression with dimension greater than 2. Defaulting to the SCIPY backend for canonicalization.\n",
      "  warnings.warn(UserWarning(\n"
     ]
    },
    {
     "name": "stdout",
     "output_type": "stream",
     "text": [
      "[ 843.67260316 1161.113277    181.65430593  144.50309693]\n"
     ]
    },
    {
     "name": "stderr",
     "output_type": "stream",
     "text": [
      "/usr/local/Caskroom/miniconda/base/envs/bloodflow/lib/python3.12/site-packages/cvxpy/reductions/solvers/solving_chain.py:418: UserWarning: The problem has an expression with dimension greater than 2. Defaulting to the SCIPY backend for canonicalization.\n",
      "  warnings.warn(UserWarning(\n"
     ]
    },
    {
     "name": "stdout",
     "output_type": "stream",
     "text": [
      "[ 930.71034836 1280.13564459  201.18438847  158.67320659]\n"
     ]
    },
    {
     "name": "stderr",
     "output_type": "stream",
     "text": [
      "/usr/local/Caskroom/miniconda/base/envs/bloodflow/lib/python3.12/site-packages/cvxpy/reductions/solvers/solving_chain.py:418: UserWarning: The problem has an expression with dimension greater than 2. Defaulting to the SCIPY backend for canonicalization.\n",
      "  warnings.warn(UserWarning(\n"
     ]
    },
    {
     "name": "stdout",
     "output_type": "stream",
     "text": [
      "[1008.84017898 1388.52293492  218.2955208   171.53246324]\n"
     ]
    },
    {
     "name": "stderr",
     "output_type": "stream",
     "text": [
      "/usr/local/Caskroom/miniconda/base/envs/bloodflow/lib/python3.12/site-packages/cvxpy/reductions/solvers/solving_chain.py:418: UserWarning: The problem has an expression with dimension greater than 2. Defaulting to the SCIPY backend for canonicalization.\n",
      "  warnings.warn(UserWarning(\n"
     ]
    },
    {
     "name": "stdout",
     "output_type": "stream",
     "text": [
      "[1085.42426676 1495.0250226   235.38086162  184.42769002]\n"
     ]
    },
    {
     "name": "stderr",
     "output_type": "stream",
     "text": [
      "/usr/local/Caskroom/miniconda/base/envs/bloodflow/lib/python3.12/site-packages/cvxpy/reductions/solvers/solving_chain.py:418: UserWarning: The problem has an expression with dimension greater than 2. Defaulting to the SCIPY backend for canonicalization.\n",
      "  warnings.warn(UserWarning(\n"
     ]
    },
    {
     "name": "stdout",
     "output_type": "stream",
     "text": [
      "[1157.56958801 1596.30485146  251.41538593  196.72446088]\n"
     ]
    },
    {
     "name": "stderr",
     "output_type": "stream",
     "text": [
      "/usr/local/Caskroom/miniconda/base/envs/bloodflow/lib/python3.12/site-packages/cvxpy/reductions/solvers/solving_chain.py:418: UserWarning: The problem has an expression with dimension greater than 2. Defaulting to the SCIPY backend for canonicalization.\n",
      "  warnings.warn(UserWarning(\n"
     ]
    },
    {
     "name": "stdout",
     "output_type": "stream",
     "text": [
      "[1232.93927495 1701.71708203  268.51597722  209.51476729]\n"
     ]
    },
    {
     "name": "stderr",
     "output_type": "stream",
     "text": [
      "/usr/local/Caskroom/miniconda/base/envs/bloodflow/lib/python3.12/site-packages/cvxpy/reductions/solvers/solving_chain.py:418: UserWarning: The problem has an expression with dimension greater than 2. Defaulting to the SCIPY backend for canonicalization.\n",
      "  warnings.warn(UserWarning(\n"
     ]
    },
    {
     "name": "stdout",
     "output_type": "stream",
     "text": [
      "[1303.42733656 1801.37612129  284.58528824  221.74110817]\n"
     ]
    },
    {
     "name": "stderr",
     "output_type": "stream",
     "text": [
      "/usr/local/Caskroom/miniconda/base/envs/bloodflow/lib/python3.12/site-packages/cvxpy/reductions/solvers/solving_chain.py:418: UserWarning: The problem has an expression with dimension greater than 2. Defaulting to the SCIPY backend for canonicalization.\n",
      "  warnings.warn(UserWarning(\n"
     ]
    },
    {
     "name": "stdout",
     "output_type": "stream",
     "text": [
      "[1370.26336131 1896.71610705  300.15492578  233.7368276 ]\n"
     ]
    },
    {
     "name": "stderr",
     "output_type": "stream",
     "text": [
      "/usr/local/Caskroom/miniconda/base/envs/bloodflow/lib/python3.12/site-packages/cvxpy/reductions/solvers/solving_chain.py:418: UserWarning: The problem has an expression with dimension greater than 2. Defaulting to the SCIPY backend for canonicalization.\n",
      "  warnings.warn(UserWarning(\n"
     ]
    },
    {
     "name": "stdout",
     "output_type": "stream",
     "text": [
      "[1445.09882754 2001.94936498  318.49256884  247.16086662]\n"
     ]
    },
    {
     "name": "stderr",
     "output_type": "stream",
     "text": [
      "/usr/local/Caskroom/miniconda/base/envs/bloodflow/lib/python3.12/site-packages/cvxpy/reductions/solvers/solving_chain.py:418: UserWarning: The problem has an expression with dimension greater than 2. Defaulting to the SCIPY backend for canonicalization.\n",
      "  warnings.warn(UserWarning(\n",
      "/usr/local/Caskroom/miniconda/base/envs/bloodflow/lib/python3.12/site-packages/cvxpy/problems/problem.py:1481: UserWarning: Solution may be inaccurate. Try another solver, adjusting the solver settings, or solve with verbose=True for more information.\n",
      "  warnings.warn(\n",
      "/usr/local/Caskroom/miniconda/base/envs/bloodflow/lib/python3.12/site-packages/cvxpy/reductions/solvers/solving_chain.py:418: UserWarning: The problem has an expression with dimension greater than 2. Defaulting to the SCIPY backend for canonicalization.\n",
      "  warnings.warn(UserWarning(\n"
     ]
    },
    {
     "name": "stdout",
     "output_type": "stream",
     "text": [
      "[1519.87029457 2000.62332199  337.37254951  260.87329139]\n"
     ]
    },
    {
     "name": "stderr",
     "output_type": "stream",
     "text": [
      "/usr/local/Caskroom/miniconda/base/envs/bloodflow/lib/python3.12/site-packages/cvxpy/problems/problem.py:1481: UserWarning: Solution may be inaccurate. Try another solver, adjusting the solver settings, or solve with verbose=True for more information.\n",
      "  warnings.warn(\n",
      "/usr/local/Caskroom/miniconda/base/envs/bloodflow/lib/python3.12/site-packages/cvxpy/reductions/solvers/solving_chain.py:418: UserWarning: The problem has an expression with dimension greater than 2. Defaulting to the SCIPY backend for canonicalization.\n",
      "  warnings.warn(UserWarning(\n"
     ]
    },
    {
     "name": "stdout",
     "output_type": "stream",
     "text": [
      "[1601.08094884 2009.21387226  358.8311972   275.97999795]\n"
     ]
    },
    {
     "name": "stderr",
     "output_type": "stream",
     "text": [
      "/usr/local/Caskroom/miniconda/base/envs/bloodflow/lib/python3.12/site-packages/cvxpy/problems/problem.py:1481: UserWarning: Solution may be inaccurate. Try another solver, adjusting the solver settings, or solve with verbose=True for more information.\n",
      "  warnings.warn(\n",
      "/usr/local/Caskroom/miniconda/base/envs/bloodflow/lib/python3.12/site-packages/cvxpy/reductions/solvers/solving_chain.py:418: UserWarning: The problem has an expression with dimension greater than 2. Defaulting to the SCIPY backend for canonicalization.\n",
      "  warnings.warn(UserWarning(\n"
     ]
    },
    {
     "name": "stdout",
     "output_type": "stream",
     "text": [
      "[1670.52624454 1985.77694666  377.66604411  289.91930144]\n",
      "[1738.38844143 2000.32055786  396.70492335  303.74024251]\n"
     ]
    },
    {
     "name": "stderr",
     "output_type": "stream",
     "text": [
      "/usr/local/Caskroom/miniconda/base/envs/bloodflow/lib/python3.12/site-packages/cvxpy/reductions/solvers/solving_chain.py:418: UserWarning: The problem has an expression with dimension greater than 2. Defaulting to the SCIPY backend for canonicalization.\n",
      "  warnings.warn(UserWarning(\n",
      "/usr/local/Caskroom/miniconda/base/envs/bloodflow/lib/python3.12/site-packages/cvxpy/problems/problem.py:1481: UserWarning: Solution may be inaccurate. Try another solver, adjusting the solver settings, or solve with verbose=True for more information.\n",
      "  warnings.warn(\n",
      "/usr/local/Caskroom/miniconda/base/envs/bloodflow/lib/python3.12/site-packages/cvxpy/reductions/solvers/solving_chain.py:418: UserWarning: The problem has an expression with dimension greater than 2. Defaulting to the SCIPY backend for canonicalization.\n",
      "  warnings.warn(UserWarning(\n"
     ]
    },
    {
     "name": "stdout",
     "output_type": "stream",
     "text": [
      "[1801.68310765 1995.9228699   415.21521542  317.28657335]\n",
      "[1856.89489286 1991.66720599  432.30540157  330.10700914]\n"
     ]
    },
    {
     "name": "stderr",
     "output_type": "stream",
     "text": [
      "/usr/local/Caskroom/miniconda/base/envs/bloodflow/lib/python3.12/site-packages/cvxpy/reductions/solvers/solving_chain.py:418: UserWarning: The problem has an expression with dimension greater than 2. Defaulting to the SCIPY backend for canonicalization.\n",
      "  warnings.warn(UserWarning(\n"
     ]
    },
    {
     "name": "stdout",
     "output_type": "stream",
     "text": [
      "[1909.88593771 1999.00128518  449.5496931   342.99174181]\n"
     ]
    },
    {
     "name": "stderr",
     "output_type": "stream",
     "text": [
      "/usr/local/Caskroom/miniconda/base/envs/bloodflow/lib/python3.12/site-packages/cvxpy/reductions/solvers/solving_chain.py:418: UserWarning: The problem has an expression with dimension greater than 2. Defaulting to the SCIPY backend for canonicalization.\n",
      "  warnings.warn(UserWarning(\n"
     ]
    },
    {
     "name": "stdout",
     "output_type": "stream",
     "text": [
      "[1956.91141886 1994.2756436   466.01700038  355.47140562]\n"
     ]
    },
    {
     "name": "stderr",
     "output_type": "stream",
     "text": [
      "/usr/local/Caskroom/miniconda/base/envs/bloodflow/lib/python3.12/site-packages/cvxpy/reductions/solvers/solving_chain.py:418: UserWarning: The problem has an expression with dimension greater than 2. Defaulting to the SCIPY backend for canonicalization.\n",
      "  warnings.warn(UserWarning(\n"
     ]
    },
    {
     "name": "stdout",
     "output_type": "stream",
     "text": [
      "[2001.84211808 2003.15237633  483.48241877  368.46841066]\n"
     ]
    },
    {
     "name": "stderr",
     "output_type": "stream",
     "text": [
      "/usr/local/Caskroom/miniconda/base/envs/bloodflow/lib/python3.12/site-packages/cvxpy/reductions/solvers/solving_chain.py:418: UserWarning: The problem has an expression with dimension greater than 2. Defaulting to the SCIPY backend for canonicalization.\n",
      "  warnings.warn(UserWarning(\n",
      "/usr/local/Caskroom/miniconda/base/envs/bloodflow/lib/python3.12/site-packages/cvxpy/problems/problem.py:1481: UserWarning: Solution may be inaccurate. Try another solver, adjusting the solver settings, or solve with verbose=True for more information.\n",
      "  warnings.warn(\n",
      "/usr/local/Caskroom/miniconda/base/envs/bloodflow/lib/python3.12/site-packages/cvxpy/reductions/solvers/solving_chain.py:418: UserWarning: The problem has an expression with dimension greater than 2. Defaulting to the SCIPY backend for canonicalization.\n",
      "  warnings.warn(UserWarning(\n"
     ]
    },
    {
     "name": "stdout",
     "output_type": "stream",
     "text": [
      "[1998.75820839 1999.45955753  501.37454845  381.76377636]\n",
      "[1997.96026229 1998.69133498  519.29846147  394.95707861]\n"
     ]
    },
    {
     "name": "stderr",
     "output_type": "stream",
     "text": [
      "/usr/local/Caskroom/miniconda/base/envs/bloodflow/lib/python3.12/site-packages/cvxpy/reductions/solvers/solving_chain.py:418: UserWarning: The problem has an expression with dimension greater than 2. Defaulting to the SCIPY backend for canonicalization.\n",
      "  warnings.warn(UserWarning(\n"
     ]
    },
    {
     "name": "stdout",
     "output_type": "stream",
     "text": [
      "[1996.64926075 1997.09584522  536.9102552   407.97741833]\n"
     ]
    },
    {
     "name": "stderr",
     "output_type": "stream",
     "text": [
      "/usr/local/Caskroom/miniconda/base/envs/bloodflow/lib/python3.12/site-packages/cvxpy/reductions/solvers/solving_chain.py:418: UserWarning: The problem has an expression with dimension greater than 2. Defaulting to the SCIPY backend for canonicalization.\n",
      "  warnings.warn(UserWarning(\n"
     ]
    },
    {
     "name": "stdout",
     "output_type": "stream",
     "text": [
      "[2000.46580214 2001.83317242  555.24086202  421.33928529]\n"
     ]
    },
    {
     "name": "stderr",
     "output_type": "stream",
     "text": [
      "/usr/local/Caskroom/miniconda/base/envs/bloodflow/lib/python3.12/site-packages/cvxpy/reductions/solvers/solving_chain.py:418: UserWarning: The problem has an expression with dimension greater than 2. Defaulting to the SCIPY backend for canonicalization.\n",
      "  warnings.warn(UserWarning(\n",
      "/usr/local/Caskroom/miniconda/base/envs/bloodflow/lib/python3.12/site-packages/cvxpy/problems/problem.py:1481: UserWarning: Solution may be inaccurate. Try another solver, adjusting the solver settings, or solve with verbose=True for more information.\n",
      "  warnings.warn(\n",
      "/usr/local/Caskroom/miniconda/base/envs/bloodflow/lib/python3.12/site-packages/cvxpy/reductions/solvers/solving_chain.py:418: UserWarning: The problem has an expression with dimension greater than 2. Defaulting to the SCIPY backend for canonicalization.\n",
      "  warnings.warn(UserWarning(\n"
     ]
    },
    {
     "name": "stdout",
     "output_type": "stream",
     "text": [
      "[1999.45757287 2000.55897578  574.31414821  434.9987559 ]\n"
     ]
    },
    {
     "name": "stderr",
     "output_type": "stream",
     "text": [
      "/usr/local/Caskroom/miniconda/base/envs/bloodflow/lib/python3.12/site-packages/cvxpy/problems/problem.py:1481: UserWarning: Solution may be inaccurate. Try another solver, adjusting the solver settings, or solve with verbose=True for more information.\n",
      "  warnings.warn(\n",
      "/usr/local/Caskroom/miniconda/base/envs/bloodflow/lib/python3.12/site-packages/cvxpy/reductions/solvers/solving_chain.py:418: UserWarning: The problem has an expression with dimension greater than 2. Defaulting to the SCIPY backend for canonicalization.\n",
      "  warnings.warn(UserWarning(\n"
     ]
    },
    {
     "name": "stdout",
     "output_type": "stream",
     "text": [
      "[2008.50019972 2011.63759646  596.51098811  450.39323671]\n"
     ]
    },
    {
     "ename": "TypeError",
     "evalue": "'NoneType' object is not subscriptable",
     "output_type": "error",
     "traceback": [
      "\u001b[0;31m---------------------------------------------------------------------------\u001b[0m",
      "\u001b[0;31mTypeError\u001b[0m                                 Traceback (most recent call last)",
      "Cell \u001b[0;32mIn[84], line 1\u001b[0m\n\u001b[0;32m----> 1\u001b[0m Q,B,M \u001b[38;5;241m=\u001b[39m forecast_loop(\n\u001b[1;32m      2\u001b[0m     data\u001b[38;5;241m=\u001b[39mdata,\n\u001b[1;32m      3\u001b[0m     B_init \u001b[38;5;241m=\u001b[39m B_init,\n\u001b[1;32m      4\u001b[0m     test_length\u001b[38;5;241m=\u001b[39mtest_length,\n\u001b[1;32m      5\u001b[0m     W\u001b[38;5;241m=\u001b[39mW,\n\u001b[1;32m      6\u001b[0m     b_max\u001b[38;5;241m=\u001b[39mb_max,\n\u001b[1;32m      7\u001b[0m     Q_max\u001b[38;5;241m=\u001b[39mQ_max,\n\u001b[1;32m      8\u001b[0m     forecaster\u001b[38;5;241m=\u001b[39mget_AR_forecast,\n\u001b[1;32m      9\u001b[0m     model\u001b[38;5;241m=\u001b[39mAR_model,\n\u001b[1;32m     10\u001b[0m     f\u001b[38;5;241m=\u001b[39mf,\n\u001b[1;32m     11\u001b[0m     h\u001b[38;5;241m=\u001b[39mh,\n\u001b[1;32m     12\u001b[0m     gamma\u001b[38;5;241m=\u001b[39mgamma,\n\u001b[1;32m     13\u001b[0m     alpha\u001b[38;5;241m=\u001b[39malpha\n\u001b[1;32m     14\u001b[0m )\n",
      "Cell \u001b[0;32mIn[80], line 12\u001b[0m, in \u001b[0;36mforecast_loop\u001b[0;34m(data, B_init, test_length, W, b_max, Q_max, forecaster, model, f, h, gamma, alpha, *args)\u001b[0m\n\u001b[1;32m     10\u001b[0m history \u001b[38;5;241m=\u001b[39m data[:,offset \u001b[38;5;241m+\u001b[39m t\u001b[38;5;241m-\u001b[39mh\u001b[38;5;241m+\u001b[39m\u001b[38;5;241m1\u001b[39m:offset \u001b[38;5;241m+\u001b[39m t\u001b[38;5;241m+\u001b[39m\u001b[38;5;241m1\u001b[39m,:]\n\u001b[1;32m     11\u001b[0m forecast \u001b[38;5;241m=\u001b[39m forecaster(model,history,\u001b[38;5;241m*\u001b[39margs) \u001b[38;5;66;03m# N x f x 2\u001b[39;00m\n\u001b[0;32m---> 12\u001b[0m Q_next,M_next \u001b[38;5;241m=\u001b[39m get_next_step(W,b_max,Q_max,B_mat[t],forecast,gamma,alpha)\n\u001b[1;32m     13\u001b[0m Q_mat\u001b[38;5;241m.\u001b[39mappend(Q_next)\n\u001b[1;32m     14\u001b[0m M_mat\u001b[38;5;241m.\u001b[39mappend(M_next)\n",
      "Cell \u001b[0;32mIn[79], line 56\u001b[0m, in \u001b[0;36mget_next_step\u001b[0;34m(W, b_max, Q_max, B_init, forecast, gamma, alpha)\u001b[0m\n\u001b[1;32m     53\u001b[0m B_opt \u001b[38;5;241m=\u001b[39m B[:,\u001b[38;5;241m1\u001b[39m:]\u001b[38;5;241m.\u001b[39mvalue\n\u001b[1;32m     54\u001b[0m M_opt \u001b[38;5;241m=\u001b[39m M\u001b[38;5;241m.\u001b[39mvalue\n\u001b[0;32m---> 56\u001b[0m \u001b[38;5;28;01mreturn\u001b[39;00m Q_opt[:,:,\u001b[38;5;241m0\u001b[39m],M_opt[:,\u001b[38;5;241m0\u001b[39m]\n",
      "\u001b[0;31mTypeError\u001b[0m: 'NoneType' object is not subscriptable"
     ]
    }
   ],
   "source": [
    "Q,B,M = forecast_loop(\n",
    "    data=data,\n",
    "    B_init = B_init,\n",
    "    test_length=test_length,\n",
    "    W=W,\n",
    "    b_max=b_max,\n",
    "    Q_max=Q_max,\n",
    "    forecaster=get_AR_forecast,\n",
    "    model=AR_model,\n",
    "    f=f,\n",
    "    h=h,\n",
    "    gamma=gamma,\n",
    "    alpha=alpha\n",
    ")"
   ]
  },
  {
   "cell_type": "code",
   "execution_count": null,
   "id": "5cd40370-37d2-45f8-a0ae-1411d00388d1",
   "metadata": {},
   "outputs": [],
   "source": [
    "print(Q)"
   ]
  }
 ],
 "metadata": {
  "kernelspec": {
   "display_name": "Python (bloodflow)",
   "language": "python",
   "name": "bloodflow"
  },
  "language_info": {
   "codemirror_mode": {
    "name": "ipython",
    "version": 3
   },
   "file_extension": ".py",
   "mimetype": "text/x-python",
   "name": "python",
   "nbconvert_exporter": "python",
   "pygments_lexer": "ipython3",
   "version": "3.12.7"
  }
 },
 "nbformat": 4,
 "nbformat_minor": 5
}
