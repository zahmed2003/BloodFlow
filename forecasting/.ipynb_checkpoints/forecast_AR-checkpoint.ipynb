{
 "cells": [
  {
   "cell_type": "markdown",
   "id": "07f99247-dcd5-4c5a-9542-1454f03c021b",
   "metadata": {},
   "source": [
    "# AR Forecaster"
   ]
  },
  {
   "cell_type": "markdown",
   "id": "b201aef6-443d-4033-b503-5932c3185313",
   "metadata": {},
   "source": [
    "#### Imports"
   ]
  },
  {
   "cell_type": "code",
   "execution_count": 122,
   "id": "447b513b-cd1a-40a8-8e20-32f01cb79002",
   "metadata": {},
   "outputs": [],
   "source": [
    "import numpy as np\n",
    "import pandas as pd\n",
    "import matplotlib.pyplot as plt\n",
    "from sklearn.linear_model import LinearRegression\n",
    "from sklearn.metrics import mean_squared_error as mse"
   ]
  },
  {
   "cell_type": "markdown",
   "id": "a105a562-44e1-4d55-a075-f322b0a70264",
   "metadata": {},
   "source": [
    "#### data setup"
   ]
  },
  {
   "cell_type": "code",
   "execution_count": 9,
   "id": "167ac958-7047-4476-88ca-22801fa2dcb5",
   "metadata": {},
   "outputs": [
    {
     "data": {
      "text/plain": [
       "(4, 2801, 2)"
      ]
     },
     "execution_count": 9,
     "metadata": {},
     "output_type": "execute_result"
    }
   ],
   "source": [
    "data_directory = '../data/experiment_small/'\n",
    "data_true = np.load(data_directory + 'network_params/data_network.npy')\n",
    "data_true = np.transpose(data_true, (1, 2, 0))\n",
    "data_true.shape"
   ]
  },
  {
   "cell_type": "code",
   "execution_count": 77,
   "id": "067e4bbc-6c65-49b3-8e2e-338d661db315",
   "metadata": {},
   "outputs": [],
   "source": [
    "data_test = data_true[:,:100,:]"
   ]
  },
  {
   "cell_type": "markdown",
   "id": "65d4f20d-1a61-4a4a-b1cd-951e645d675a",
   "metadata": {},
   "source": [
    "#### data processes"
   ]
  },
  {
   "cell_type": "code",
   "execution_count": 78,
   "id": "0073a4b1-66ae-422f-856c-e80037f947d3",
   "metadata": {},
   "outputs": [],
   "source": [
    "def time_slice_data(data, h, f):\n",
    "    T = h + f\n",
    "    samples = np.array([data[:,t:t + T,:] for t in range(len(data[0]) - T + 1)])\n",
    "    return samples[:, :, :h, :], samples[:, : , h:, :]"
   ]
  },
  {
   "cell_type": "code",
   "execution_count": 79,
   "id": "a6425c55-e894-4a21-9dec-88935daa7889",
   "metadata": {},
   "outputs": [],
   "source": [
    "hist_samples, future_samples = time_slice_data(data_test, 3, 1)"
   ]
  },
  {
   "cell_type": "code",
   "execution_count": 80,
   "id": "2a498c47-e5c8-472d-a788-15ad70d53867",
   "metadata": {},
   "outputs": [
    {
     "data": {
      "text/plain": [
       "(97, 4, 1, 2)"
      ]
     },
     "execution_count": 80,
     "metadata": {},
     "output_type": "execute_result"
    }
   ],
   "source": [
    "future_samples.shape"
   ]
  },
  {
   "cell_type": "code",
   "execution_count": 81,
   "id": "01222b96-423b-4cba-a399-84f2676a65ce",
   "metadata": {},
   "outputs": [
    {
     "data": {
      "text/plain": [
       "(97, 4, 3, 2)"
      ]
     },
     "execution_count": 81,
     "metadata": {},
     "output_type": "execute_result"
    }
   ],
   "source": [
    "hist_samples.shape"
   ]
  },
  {
   "cell_type": "markdown",
   "id": "8dd3ed38-94c0-4b20-84d4-1b54bbeb7a0b",
   "metadata": {},
   "source": [
    "#### AR forecaster"
   ]
  },
  {
   "cell_type": "code",
   "execution_count": 125,
   "id": "ba205ddb-1e71-4738-8998-35be49abb7eb",
   "metadata": {},
   "outputs": [],
   "source": [
    "def fit_AR_forecaster(data, h=3, f=1):\n",
    "  \n",
    "    hist_samples, future_samples = time_slice_data(data, h, f)\n",
    "    m = len(hist_samples)\n",
    "    N = len(data)\n",
    "    \n",
    "    hist_sample_matrix = hist_samples.reshape(m * N, h * 2)\n",
    "    future_sample_matrix = future_samples.reshape(m * N, f * 2)\n",
    "    \n",
    "    model = LinearRegression()\n",
    "    model.fit(hist_sample_matrix, future_sample_matrix)\n",
    "\n",
    "    return model\n",
    "\n",
    "def get_AR_forecast(AR_model, history):\n",
    "    N, h, _ = history.shape\n",
    "    f = len(AR_model.intercept_)//2\n",
    "    history = history.reshape(N,2*h)\n",
    "\n",
    "    forecast = AR_model.predict(history)\n",
    "    return forecast\n",
    "    # return forecast.reshape(N,f,2)\n",
    "    "
   ]
  },
  {
   "cell_type": "code",
   "execution_count": 128,
   "id": "fc314865-f005-4b28-a20c-d74b032f2727",
   "metadata": {},
   "outputs": [],
   "source": [
    "h = 7\n",
    "f = 7\n",
    "hist = data_true[:,-h:,:]\n",
    "\n",
    "AR_model = fit_AR_forecaster(data_true[:,:-f,:], h=h, f=f)\n",
    "forecast = get_AR_forecast(AR_model, hist)"
   ]
  },
  {
   "cell_type": "code",
   "execution_count": 129,
   "id": "3f3f6de4-22fd-47e7-8f7c-de8fee50071e",
   "metadata": {},
   "outputs": [
    {
     "data": {
      "text/plain": [
       "(4, 14)"
      ]
     },
     "execution_count": 129,
     "metadata": {},
     "output_type": "execute_result"
    }
   ],
   "source": [
    "forecast.shape"
   ]
  },
  {
   "cell_type": "code",
   "execution_count": 132,
   "id": "de370521-dd6f-4ba3-bb89-d8944a2ba436",
   "metadata": {},
   "outputs": [
    {
     "data": {
      "text/plain": [
       "5.039802178871127"
      ]
     },
     "execution_count": 132,
     "metadata": {},
     "output_type": "execute_result"
    }
   ],
   "source": [
    "(1/(f*4))*mse(forecast, data_true[:,-f:,:].reshape(forecast.shape))"
   ]
  }
 ],
 "metadata": {
  "kernelspec": {
   "display_name": "Python 3 (ipykernel)",
   "language": "python",
   "name": "python3"
  },
  "language_info": {
   "codemirror_mode": {
    "name": "ipython",
    "version": 3
   },
   "file_extension": ".py",
   "mimetype": "text/x-python",
   "name": "python",
   "nbconvert_exporter": "python",
   "pygments_lexer": "ipython3",
   "version": "3.9.19"
  },
  "widgets": {
   "application/vnd.jupyter.widget-state+json": {
    "state": {},
    "version_major": 2,
    "version_minor": 0
   }
  }
 },
 "nbformat": 4,
 "nbformat_minor": 5
}
