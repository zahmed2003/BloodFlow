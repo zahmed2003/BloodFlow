{
 "cells": [
  {
   "cell_type": "code",
   "execution_count": 4,
   "id": "3d3f1894-7c63-467c-8886-ea72d18f40ee",
   "metadata": {},
   "outputs": [],
   "source": [
    "import pandas as pd, numpy as np\n",
    "import matplotlib.pyplot as plt\n",
    "from sklearn import linear_model \n",
    "from sklearn.metrics import mean_squared_error as mse_metric\n",
    "from statsmodels.graphics.tsaplots import plot_acf"
   ]
  },
  {
   "cell_type": "code",
   "execution_count": 5,
   "id": "454cc504-5d2f-45e5-8bfe-de7ab635485c",
   "metadata": {},
   "outputs": [
    {
     "data": {
      "text/plain": [
       "(4, 2801, 2)"
      ]
     },
     "execution_count": 5,
     "metadata": {},
     "output_type": "execute_result"
    }
   ],
   "source": [
    "data_directory = '../data/experiment_small/'\n",
    "data = np.load(data_directory + 'network_params/data_network.npy')\n",
    "data = np.transpose(data, (1, 2, 0))\n",
    "data.shape"
   ]
  },
  {
   "cell_type": "code",
   "execution_count": 6,
   "id": "160d6a37-e2b6-42fd-aae7-905c3bda8360",
   "metadata": {},
   "outputs": [],
   "source": [
    "data_train = data[:,:-3*365,:]\n",
    "data_val = data[:,-3*365:-365,:]\n",
    "data_test = data[:,-365:,:]"
   ]
  },
  {
   "cell_type": "code",
   "execution_count": 7,
   "id": "299b441a-824c-441b-8000-66692bb562f0",
   "metadata": {},
   "outputs": [],
   "source": [
    "data_train_diff = np.diff(data_train, axis = 1)\n",
    "data_val_diff= np.diff(data_val, axis = 1)\n",
    "data_test_diff = np.diff(data_test, axis = 1)"
   ]
  },
  {
   "cell_type": "markdown",
   "id": "c41bd77e-ae4f-4dab-a087-bee1931e7584",
   "metadata": {},
   "source": [
    "### util"
   ]
  },
  {
   "cell_type": "code",
   "execution_count": 8,
   "id": "525d3f8b-ea66-4b65-ad76-371ab0f10f2c",
   "metadata": {},
   "outputs": [],
   "source": [
    "def get_mse(forecast, true_vals):\n",
    "    N, f , _ = forecast.shape\n",
    "    forecast = forecast.reshape(N, f * 2)\n",
    "    true_vals = true_vals.reshape(N, f * 2)\n",
    "    \n",
    "    return mse_metric(forecast, true_vals)\n",
    "\n",
    "def data_slice(data, h, f):\n",
    "    T = h + f\n",
    "    samples = np.array([data[:,t:t + T,:] for t in range(len(data[0]) - T + 1)])\n",
    "    return samples[:, :, :h, :], samples[:, : , h:, :]"
   ]
  },
  {
   "cell_type": "markdown",
   "id": "d5ebaf95-802f-4eff-95b9-18b58885c3cb",
   "metadata": {},
   "source": [
    "### Zero order hold forecaster"
   ]
  },
  {
   "cell_type": "code",
   "execution_count": 9,
   "id": "3f574fe8-2b71-4998-bd11-da8e79c711a0",
   "metadata": {},
   "outputs": [],
   "source": [
    "def get_ZOH_forecast(history, f=1):\n",
    "    forecast = np.tile(history[:, -1:, :], (1, f, 1))\n",
    "    return forecast\n",
    "\n",
    "def get_ZOH_forecast_rmse(hists, futures):\n",
    "    _,_,f,_ = futures.shape\n",
    "    forecasts = np.array([get_ZOH_forecast(hist, f=f) for hist in hists])\n",
    "    mse = np.mean([get_mse(forecasts[i], futures[i]) for i in range(len(futures))])\n",
    "    return np.sqrt(mse)"
   ]
  },
  {
   "cell_type": "code",
   "execution_count": 10,
   "id": "bf83c9dc-2299-43d3-920e-91c7c15b5f0b",
   "metadata": {},
   "outputs": [
    {
     "name": "stdout",
     "output_type": "stream",
     "text": [
      "7.89146286194628\n"
     ]
    }
   ],
   "source": [
    "h, f = 1, 7\n",
    "hist_val, future_val = data_slice(data_val, h = h, f = f)\n",
    "print(get_ZOH_forecast_rmse(hist_val, future_val))"
   ]
  },
  {
   "cell_type": "markdown",
   "id": "a36881e4-682c-45b9-b5f6-b729aee9d5ba",
   "metadata": {},
   "source": [
    "### hist mean forecast"
   ]
  },
  {
   "cell_type": "code",
   "execution_count": 112,
   "id": "6bf74f95-8960-44a2-8214-eacac0c1947f",
   "metadata": {},
   "outputs": [],
   "source": [
    "def get_histmean_forecast(history, f = 1):\n",
    "    hist_diff = np.diff(history, axis = 1)\n",
    "    mean_diff = np.mean(hist_diff, axis = 1, keepdims = True)\n",
    "    tile = history[:,-1]\n",
    "    slices = np.tile(np.arange(1,f+1), (len(history),1))\n",
    "    slices = np.array([slices, slices]).transpose(1,2,0)\n",
    "    add = np.tile(mean_diff,(1,f,1))*slices\n",
    "    forecast =  np.repeat(tile[:, np.newaxis, :],f, axis=1) + add\n",
    "    return forecast\n",
    "\n",
    "def get_histmean_forecast_rmse(hists, futures):\n",
    "    _,_,f,_ = futures.shape\n",
    "    forecasts = np.array([get_histmean_forecast(hist, f=f) for hist in hists])\n",
    "    mse = np.mean([get_mse(forecasts[i], futures[i]) for i in range(len(futures))])\n",
    "    return np.sqrt(mse)\n",
    "\n",
    "\n",
    "def histmean_hyperparam_search(data_train, data_val, h_range, f=3):\n",
    "    val_rmses = []\n",
    "    for h in h_range:\n",
    "        hist_val, future_val = data_slice(data_val, h = h, f = f)\n",
    "        val_rmses += [get_histmean_forecast_rmse(hist_val, future_val)]\n",
    "    return val_rmses"
   ]
  },
  {
   "cell_type": "code",
   "execution_count": 113,
   "id": "57ca9cdb-d96a-4cf6-91bd-12f12573fbf8",
   "metadata": {},
   "outputs": [
    {
     "ename": "ValueError",
     "evalue": "Input contains NaN.",
     "output_type": "error",
     "traceback": [
      "\u001b[0;31m---------------------------------------------------------------------------\u001b[0m",
      "\u001b[0;31mValueError\u001b[0m                                Traceback (most recent call last)",
      "Cell \u001b[0;32mIn[113], line 4\u001b[0m\n\u001b[1;32m      2\u001b[0m h_vals \u001b[38;5;241m=\u001b[39m np\u001b[38;5;241m.\u001b[39marange(\u001b[38;5;241m1\u001b[39m,\u001b[38;5;241m50\u001b[39m)\n\u001b[1;32m      3\u001b[0m hist_val, future_val \u001b[38;5;241m=\u001b[39m data_slice(data_val, h \u001b[38;5;241m=\u001b[39m h, f \u001b[38;5;241m=\u001b[39m f)\n\u001b[0;32m----> 4\u001b[0m rmses \u001b[38;5;241m=\u001b[39m \u001b[43mhistmean_hyperparam_search\u001b[49m\u001b[43m(\u001b[49m\u001b[43mdata_train\u001b[49m\u001b[43m,\u001b[49m\u001b[43m \u001b[49m\u001b[43mdata_val\u001b[49m\u001b[43m,\u001b[49m\u001b[43m \u001b[49m\u001b[43mh_vals\u001b[49m\u001b[43m,\u001b[49m\u001b[43m \u001b[49m\u001b[43mf\u001b[49m\u001b[38;5;241;43m=\u001b[39;49m\u001b[43mf\u001b[49m\u001b[43m)\u001b[49m\n",
      "Cell \u001b[0;32mIn[112], line 22\u001b[0m, in \u001b[0;36mhistmean_hyperparam_search\u001b[0;34m(data_train, data_val, h_range, f)\u001b[0m\n\u001b[1;32m     20\u001b[0m \u001b[38;5;28;01mfor\u001b[39;00m h \u001b[38;5;129;01min\u001b[39;00m h_range:\n\u001b[1;32m     21\u001b[0m     hist_val, future_val \u001b[38;5;241m=\u001b[39m data_slice(data_val, h \u001b[38;5;241m=\u001b[39m h, f \u001b[38;5;241m=\u001b[39m f)\n\u001b[0;32m---> 22\u001b[0m     val_rmses \u001b[38;5;241m+\u001b[39m\u001b[38;5;241m=\u001b[39m [\u001b[43mget_histmean_forecast_rmse\u001b[49m\u001b[43m(\u001b[49m\u001b[43mhist_val\u001b[49m\u001b[43m,\u001b[49m\u001b[43m \u001b[49m\u001b[43mfuture_val\u001b[49m\u001b[43m)\u001b[49m]\n\u001b[1;32m     23\u001b[0m \u001b[38;5;28;01mreturn\u001b[39;00m val_rmses\n",
      "Cell \u001b[0;32mIn[112], line 14\u001b[0m, in \u001b[0;36mget_histmean_forecast_rmse\u001b[0;34m(hists, futures)\u001b[0m\n\u001b[1;32m     12\u001b[0m _,_,f,_ \u001b[38;5;241m=\u001b[39m futures\u001b[38;5;241m.\u001b[39mshape\n\u001b[1;32m     13\u001b[0m forecasts \u001b[38;5;241m=\u001b[39m np\u001b[38;5;241m.\u001b[39marray([get_histmean_forecast(hist, f\u001b[38;5;241m=\u001b[39mf) \u001b[38;5;28;01mfor\u001b[39;00m hist \u001b[38;5;129;01min\u001b[39;00m hists])\n\u001b[0;32m---> 14\u001b[0m mse \u001b[38;5;241m=\u001b[39m np\u001b[38;5;241m.\u001b[39mmean([get_mse(forecasts[i], futures[i]) \u001b[38;5;28;01mfor\u001b[39;00m i \u001b[38;5;129;01min\u001b[39;00m \u001b[38;5;28mrange\u001b[39m(\u001b[38;5;28mlen\u001b[39m(futures))])\n\u001b[1;32m     15\u001b[0m \u001b[38;5;28;01mreturn\u001b[39;00m np\u001b[38;5;241m.\u001b[39msqrt(mse)\n",
      "Cell \u001b[0;32mIn[112], line 14\u001b[0m, in \u001b[0;36m<listcomp>\u001b[0;34m(.0)\u001b[0m\n\u001b[1;32m     12\u001b[0m _,_,f,_ \u001b[38;5;241m=\u001b[39m futures\u001b[38;5;241m.\u001b[39mshape\n\u001b[1;32m     13\u001b[0m forecasts \u001b[38;5;241m=\u001b[39m np\u001b[38;5;241m.\u001b[39marray([get_histmean_forecast(hist, f\u001b[38;5;241m=\u001b[39mf) \u001b[38;5;28;01mfor\u001b[39;00m hist \u001b[38;5;129;01min\u001b[39;00m hists])\n\u001b[0;32m---> 14\u001b[0m mse \u001b[38;5;241m=\u001b[39m np\u001b[38;5;241m.\u001b[39mmean([\u001b[43mget_mse\u001b[49m\u001b[43m(\u001b[49m\u001b[43mforecasts\u001b[49m\u001b[43m[\u001b[49m\u001b[43mi\u001b[49m\u001b[43m]\u001b[49m\u001b[43m,\u001b[49m\u001b[43m \u001b[49m\u001b[43mfutures\u001b[49m\u001b[43m[\u001b[49m\u001b[43mi\u001b[49m\u001b[43m]\u001b[49m\u001b[43m)\u001b[49m \u001b[38;5;28;01mfor\u001b[39;00m i \u001b[38;5;129;01min\u001b[39;00m \u001b[38;5;28mrange\u001b[39m(\u001b[38;5;28mlen\u001b[39m(futures))])\n\u001b[1;32m     15\u001b[0m \u001b[38;5;28;01mreturn\u001b[39;00m np\u001b[38;5;241m.\u001b[39msqrt(mse)\n",
      "Cell \u001b[0;32mIn[8], line 6\u001b[0m, in \u001b[0;36mget_mse\u001b[0;34m(forecast, true_vals)\u001b[0m\n\u001b[1;32m      3\u001b[0m forecast \u001b[38;5;241m=\u001b[39m forecast\u001b[38;5;241m.\u001b[39mreshape(N, f \u001b[38;5;241m*\u001b[39m \u001b[38;5;241m2\u001b[39m)\n\u001b[1;32m      4\u001b[0m true_vals \u001b[38;5;241m=\u001b[39m true_vals\u001b[38;5;241m.\u001b[39mreshape(N, f \u001b[38;5;241m*\u001b[39m \u001b[38;5;241m2\u001b[39m)\n\u001b[0;32m----> 6\u001b[0m \u001b[38;5;28;01mreturn\u001b[39;00m \u001b[43mmse_metric\u001b[49m\u001b[43m(\u001b[49m\u001b[43mforecast\u001b[49m\u001b[43m,\u001b[49m\u001b[43m \u001b[49m\u001b[43mtrue_vals\u001b[49m\u001b[43m)\u001b[49m\n",
      "File \u001b[0;32m~/miniforge3/envs/cs229/lib/python3.9/site-packages/sklearn/utils/_param_validation.py:213\u001b[0m, in \u001b[0;36mvalidate_params.<locals>.decorator.<locals>.wrapper\u001b[0;34m(*args, **kwargs)\u001b[0m\n\u001b[1;32m    207\u001b[0m \u001b[38;5;28;01mtry\u001b[39;00m:\n\u001b[1;32m    208\u001b[0m     \u001b[38;5;28;01mwith\u001b[39;00m config_context(\n\u001b[1;32m    209\u001b[0m         skip_parameter_validation\u001b[38;5;241m=\u001b[39m(\n\u001b[1;32m    210\u001b[0m             prefer_skip_nested_validation \u001b[38;5;129;01mor\u001b[39;00m global_skip_validation\n\u001b[1;32m    211\u001b[0m         )\n\u001b[1;32m    212\u001b[0m     ):\n\u001b[0;32m--> 213\u001b[0m         \u001b[38;5;28;01mreturn\u001b[39;00m \u001b[43mfunc\u001b[49m\u001b[43m(\u001b[49m\u001b[38;5;241;43m*\u001b[39;49m\u001b[43margs\u001b[49m\u001b[43m,\u001b[49m\u001b[43m \u001b[49m\u001b[38;5;241;43m*\u001b[39;49m\u001b[38;5;241;43m*\u001b[39;49m\u001b[43mkwargs\u001b[49m\u001b[43m)\u001b[49m\n\u001b[1;32m    214\u001b[0m \u001b[38;5;28;01mexcept\u001b[39;00m InvalidParameterError \u001b[38;5;28;01mas\u001b[39;00m e:\n\u001b[1;32m    215\u001b[0m     \u001b[38;5;66;03m# When the function is just a wrapper around an estimator, we allow\u001b[39;00m\n\u001b[1;32m    216\u001b[0m     \u001b[38;5;66;03m# the function to delegate validation to the estimator, but we replace\u001b[39;00m\n\u001b[1;32m    217\u001b[0m     \u001b[38;5;66;03m# the name of the estimator by the name of the function in the error\u001b[39;00m\n\u001b[1;32m    218\u001b[0m     \u001b[38;5;66;03m# message to avoid confusion.\u001b[39;00m\n\u001b[1;32m    219\u001b[0m     msg \u001b[38;5;241m=\u001b[39m re\u001b[38;5;241m.\u001b[39msub(\n\u001b[1;32m    220\u001b[0m         \u001b[38;5;124mr\u001b[39m\u001b[38;5;124m\"\u001b[39m\u001b[38;5;124mparameter of \u001b[39m\u001b[38;5;124m\\\u001b[39m\u001b[38;5;124mw+ must be\u001b[39m\u001b[38;5;124m\"\u001b[39m,\n\u001b[1;32m    221\u001b[0m         \u001b[38;5;124mf\u001b[39m\u001b[38;5;124m\"\u001b[39m\u001b[38;5;124mparameter of \u001b[39m\u001b[38;5;132;01m{\u001b[39;00mfunc\u001b[38;5;241m.\u001b[39m\u001b[38;5;18m__qualname__\u001b[39m\u001b[38;5;132;01m}\u001b[39;00m\u001b[38;5;124m must be\u001b[39m\u001b[38;5;124m\"\u001b[39m,\n\u001b[1;32m    222\u001b[0m         \u001b[38;5;28mstr\u001b[39m(e),\n\u001b[1;32m    223\u001b[0m     )\n",
      "File \u001b[0;32m~/miniforge3/envs/cs229/lib/python3.9/site-packages/sklearn/metrics/_regression.py:506\u001b[0m, in \u001b[0;36mmean_squared_error\u001b[0;34m(y_true, y_pred, sample_weight, multioutput, squared)\u001b[0m\n\u001b[1;32m    501\u001b[0m     \u001b[38;5;28;01mif\u001b[39;00m \u001b[38;5;129;01mnot\u001b[39;00m squared:\n\u001b[1;32m    502\u001b[0m         \u001b[38;5;28;01mreturn\u001b[39;00m root_mean_squared_error(\n\u001b[1;32m    503\u001b[0m             y_true, y_pred, sample_weight\u001b[38;5;241m=\u001b[39msample_weight, multioutput\u001b[38;5;241m=\u001b[39mmultioutput\n\u001b[1;32m    504\u001b[0m         )\n\u001b[0;32m--> 506\u001b[0m y_type, y_true, y_pred, multioutput \u001b[38;5;241m=\u001b[39m \u001b[43m_check_reg_targets\u001b[49m\u001b[43m(\u001b[49m\n\u001b[1;32m    507\u001b[0m \u001b[43m    \u001b[49m\u001b[43my_true\u001b[49m\u001b[43m,\u001b[49m\u001b[43m \u001b[49m\u001b[43my_pred\u001b[49m\u001b[43m,\u001b[49m\u001b[43m \u001b[49m\u001b[43mmultioutput\u001b[49m\n\u001b[1;32m    508\u001b[0m \u001b[43m\u001b[49m\u001b[43m)\u001b[49m\n\u001b[1;32m    509\u001b[0m check_consistent_length(y_true, y_pred, sample_weight)\n\u001b[1;32m    510\u001b[0m output_errors \u001b[38;5;241m=\u001b[39m np\u001b[38;5;241m.\u001b[39maverage((y_true \u001b[38;5;241m-\u001b[39m y_pred) \u001b[38;5;241m*\u001b[39m\u001b[38;5;241m*\u001b[39m \u001b[38;5;241m2\u001b[39m, axis\u001b[38;5;241m=\u001b[39m\u001b[38;5;241m0\u001b[39m, weights\u001b[38;5;241m=\u001b[39msample_weight)\n",
      "File \u001b[0;32m~/miniforge3/envs/cs229/lib/python3.9/site-packages/sklearn/metrics/_regression.py:112\u001b[0m, in \u001b[0;36m_check_reg_targets\u001b[0;34m(y_true, y_pred, multioutput, dtype, xp)\u001b[0m\n\u001b[1;32m    109\u001b[0m xp, _ \u001b[38;5;241m=\u001b[39m get_namespace(y_true, y_pred, multioutput, xp\u001b[38;5;241m=\u001b[39mxp)\n\u001b[1;32m    111\u001b[0m check_consistent_length(y_true, y_pred)\n\u001b[0;32m--> 112\u001b[0m y_true \u001b[38;5;241m=\u001b[39m \u001b[43mcheck_array\u001b[49m\u001b[43m(\u001b[49m\u001b[43my_true\u001b[49m\u001b[43m,\u001b[49m\u001b[43m \u001b[49m\u001b[43mensure_2d\u001b[49m\u001b[38;5;241;43m=\u001b[39;49m\u001b[38;5;28;43;01mFalse\u001b[39;49;00m\u001b[43m,\u001b[49m\u001b[43m \u001b[49m\u001b[43mdtype\u001b[49m\u001b[38;5;241;43m=\u001b[39;49m\u001b[43mdtype\u001b[49m\u001b[43m)\u001b[49m\n\u001b[1;32m    113\u001b[0m y_pred \u001b[38;5;241m=\u001b[39m check_array(y_pred, ensure_2d\u001b[38;5;241m=\u001b[39m\u001b[38;5;28;01mFalse\u001b[39;00m, dtype\u001b[38;5;241m=\u001b[39mdtype)\n\u001b[1;32m    115\u001b[0m \u001b[38;5;28;01mif\u001b[39;00m y_true\u001b[38;5;241m.\u001b[39mndim \u001b[38;5;241m==\u001b[39m \u001b[38;5;241m1\u001b[39m:\n",
      "File \u001b[0;32m~/miniforge3/envs/cs229/lib/python3.9/site-packages/sklearn/utils/validation.py:1064\u001b[0m, in \u001b[0;36mcheck_array\u001b[0;34m(array, accept_sparse, accept_large_sparse, dtype, order, copy, force_writeable, force_all_finite, ensure_2d, allow_nd, ensure_min_samples, ensure_min_features, estimator, input_name)\u001b[0m\n\u001b[1;32m   1058\u001b[0m     \u001b[38;5;28;01mraise\u001b[39;00m \u001b[38;5;167;01mValueError\u001b[39;00m(\n\u001b[1;32m   1059\u001b[0m         \u001b[38;5;124m\"\u001b[39m\u001b[38;5;124mFound array with dim \u001b[39m\u001b[38;5;132;01m%d\u001b[39;00m\u001b[38;5;124m. \u001b[39m\u001b[38;5;132;01m%s\u001b[39;00m\u001b[38;5;124m expected <= 2.\u001b[39m\u001b[38;5;124m\"\u001b[39m\n\u001b[1;32m   1060\u001b[0m         \u001b[38;5;241m%\u001b[39m (array\u001b[38;5;241m.\u001b[39mndim, estimator_name)\n\u001b[1;32m   1061\u001b[0m     )\n\u001b[1;32m   1063\u001b[0m \u001b[38;5;28;01mif\u001b[39;00m force_all_finite:\n\u001b[0;32m-> 1064\u001b[0m     \u001b[43m_assert_all_finite\u001b[49m\u001b[43m(\u001b[49m\n\u001b[1;32m   1065\u001b[0m \u001b[43m        \u001b[49m\u001b[43marray\u001b[49m\u001b[43m,\u001b[49m\n\u001b[1;32m   1066\u001b[0m \u001b[43m        \u001b[49m\u001b[43minput_name\u001b[49m\u001b[38;5;241;43m=\u001b[39;49m\u001b[43minput_name\u001b[49m\u001b[43m,\u001b[49m\n\u001b[1;32m   1067\u001b[0m \u001b[43m        \u001b[49m\u001b[43mestimator_name\u001b[49m\u001b[38;5;241;43m=\u001b[39;49m\u001b[43mestimator_name\u001b[49m\u001b[43m,\u001b[49m\n\u001b[1;32m   1068\u001b[0m \u001b[43m        \u001b[49m\u001b[43mallow_nan\u001b[49m\u001b[38;5;241;43m=\u001b[39;49m\u001b[43mforce_all_finite\u001b[49m\u001b[43m \u001b[49m\u001b[38;5;241;43m==\u001b[39;49m\u001b[43m \u001b[49m\u001b[38;5;124;43m\"\u001b[39;49m\u001b[38;5;124;43mallow-nan\u001b[39;49m\u001b[38;5;124;43m\"\u001b[39;49m\u001b[43m,\u001b[49m\n\u001b[1;32m   1069\u001b[0m \u001b[43m    \u001b[49m\u001b[43m)\u001b[49m\n\u001b[1;32m   1071\u001b[0m \u001b[38;5;28;01mif\u001b[39;00m copy:\n\u001b[1;32m   1072\u001b[0m     \u001b[38;5;28;01mif\u001b[39;00m _is_numpy_namespace(xp):\n\u001b[1;32m   1073\u001b[0m         \u001b[38;5;66;03m# only make a copy if `array` and `array_orig` may share memory`\u001b[39;00m\n",
      "File \u001b[0;32m~/miniforge3/envs/cs229/lib/python3.9/site-packages/sklearn/utils/validation.py:123\u001b[0m, in \u001b[0;36m_assert_all_finite\u001b[0;34m(X, allow_nan, msg_dtype, estimator_name, input_name)\u001b[0m\n\u001b[1;32m    120\u001b[0m \u001b[38;5;28;01mif\u001b[39;00m first_pass_isfinite:\n\u001b[1;32m    121\u001b[0m     \u001b[38;5;28;01mreturn\u001b[39;00m\n\u001b[0;32m--> 123\u001b[0m \u001b[43m_assert_all_finite_element_wise\u001b[49m\u001b[43m(\u001b[49m\n\u001b[1;32m    124\u001b[0m \u001b[43m    \u001b[49m\u001b[43mX\u001b[49m\u001b[43m,\u001b[49m\n\u001b[1;32m    125\u001b[0m \u001b[43m    \u001b[49m\u001b[43mxp\u001b[49m\u001b[38;5;241;43m=\u001b[39;49m\u001b[43mxp\u001b[49m\u001b[43m,\u001b[49m\n\u001b[1;32m    126\u001b[0m \u001b[43m    \u001b[49m\u001b[43mallow_nan\u001b[49m\u001b[38;5;241;43m=\u001b[39;49m\u001b[43mallow_nan\u001b[49m\u001b[43m,\u001b[49m\n\u001b[1;32m    127\u001b[0m \u001b[43m    \u001b[49m\u001b[43mmsg_dtype\u001b[49m\u001b[38;5;241;43m=\u001b[39;49m\u001b[43mmsg_dtype\u001b[49m\u001b[43m,\u001b[49m\n\u001b[1;32m    128\u001b[0m \u001b[43m    \u001b[49m\u001b[43mestimator_name\u001b[49m\u001b[38;5;241;43m=\u001b[39;49m\u001b[43mestimator_name\u001b[49m\u001b[43m,\u001b[49m\n\u001b[1;32m    129\u001b[0m \u001b[43m    \u001b[49m\u001b[43minput_name\u001b[49m\u001b[38;5;241;43m=\u001b[39;49m\u001b[43minput_name\u001b[49m\u001b[43m,\u001b[49m\n\u001b[1;32m    130\u001b[0m \u001b[43m\u001b[49m\u001b[43m)\u001b[49m\n",
      "File \u001b[0;32m~/miniforge3/envs/cs229/lib/python3.9/site-packages/sklearn/utils/validation.py:172\u001b[0m, in \u001b[0;36m_assert_all_finite_element_wise\u001b[0;34m(X, xp, allow_nan, msg_dtype, estimator_name, input_name)\u001b[0m\n\u001b[1;32m    155\u001b[0m \u001b[38;5;28;01mif\u001b[39;00m estimator_name \u001b[38;5;129;01mand\u001b[39;00m input_name \u001b[38;5;241m==\u001b[39m \u001b[38;5;124m\"\u001b[39m\u001b[38;5;124mX\u001b[39m\u001b[38;5;124m\"\u001b[39m \u001b[38;5;129;01mand\u001b[39;00m has_nan_error:\n\u001b[1;32m    156\u001b[0m     \u001b[38;5;66;03m# Improve the error message on how to handle missing values in\u001b[39;00m\n\u001b[1;32m    157\u001b[0m     \u001b[38;5;66;03m# scikit-learn.\u001b[39;00m\n\u001b[1;32m    158\u001b[0m     msg_err \u001b[38;5;241m+\u001b[39m\u001b[38;5;241m=\u001b[39m (\n\u001b[1;32m    159\u001b[0m         \u001b[38;5;124mf\u001b[39m\u001b[38;5;124m\"\u001b[39m\u001b[38;5;130;01m\\n\u001b[39;00m\u001b[38;5;132;01m{\u001b[39;00mestimator_name\u001b[38;5;132;01m}\u001b[39;00m\u001b[38;5;124m does not accept missing values\u001b[39m\u001b[38;5;124m\"\u001b[39m\n\u001b[1;32m    160\u001b[0m         \u001b[38;5;124m\"\u001b[39m\u001b[38;5;124m encoded as NaN natively. For supervised learning, you might want\u001b[39m\u001b[38;5;124m\"\u001b[39m\n\u001b[0;32m   (...)\u001b[0m\n\u001b[1;32m    170\u001b[0m         \u001b[38;5;124m\"\u001b[39m\u001b[38;5;124m#estimators-that-handle-nan-values\u001b[39m\u001b[38;5;124m\"\u001b[39m\n\u001b[1;32m    171\u001b[0m     )\n\u001b[0;32m--> 172\u001b[0m \u001b[38;5;28;01mraise\u001b[39;00m \u001b[38;5;167;01mValueError\u001b[39;00m(msg_err)\n",
      "\u001b[0;31mValueError\u001b[0m: Input contains NaN."
     ]
    }
   ],
   "source": [
    "f = 7\n",
    "h_vals = np.arange(1,50)\n",
    "hist_val, future_val = data_slice(data_val, h = h, f = f)\n",
    "rmses = histmean_hyperparam_search(data_train, data_val, h_vals, f=f)"
   ]
  },
  {
   "cell_type": "code",
   "execution_count": 17,
   "id": "6cd3b45b-a9ee-4e53-9a95-841831a8537e",
   "metadata": {},
   "outputs": [
    {
     "ename": "NameError",
     "evalue": "name 'rmses' is not defined",
     "output_type": "error",
     "traceback": [
      "\u001b[0;31m---------------------------------------------------------------------------\u001b[0m",
      "\u001b[0;31mNameError\u001b[0m                                 Traceback (most recent call last)",
      "Cell \u001b[0;32mIn[17], line 1\u001b[0m\n\u001b[0;32m----> 1\u001b[0m plt\u001b[38;5;241m.\u001b[39mplot(h_vals, \u001b[43mrmses\u001b[49m)\n",
      "\u001b[0;31mNameError\u001b[0m: name 'rmses' is not defined"
     ]
    }
   ],
   "source": [
    "plt.plot(h_vals, rmses)"
   ]
  },
  {
   "cell_type": "markdown",
   "id": "293a469a-d865-4c51-917b-f65c5a591eb5",
   "metadata": {},
   "source": [
    "### lin reg forecaster"
   ]
  },
  {
   "cell_type": "code",
   "execution_count": 56,
   "id": "8fcf3e4f-7720-4d0f-87ef-d1aa4b80e258",
   "metadata": {},
   "outputs": [],
   "source": [
    "def linreg_joint_forecast(data_true, h = 3, w = 7): \n",
    "    n = len(data_true)\n",
    "    forecast = np.zeros((n, h, 2))\n",
    "    time_horizon = np.array([[x] for x in np.arange(1,h+1)])\n",
    "    lin_model = linear_model.LinearRegression()\n",
    "    \n",
    "    for i in range(n):\n",
    "\n",
    "        if (i < w ):\n",
    "            time_hist_window  = np.array([[x] for x in np.arange(-i,1)])\n",
    "        else: \n",
    "            time_hist_window = np.array([[x] for x in np.arange(-w+1,1)])\n",
    "\n",
    "        history = data_true[max(0, i - w + 1):i + 1]\n",
    "\n",
    "        lin_model.fit(time_hist_window, history)\n",
    "        forecast[i] = lin_model.predict(time_horizon)\n",
    "    return forecast   "
   ]
  },
  {
   "cell_type": "code",
   "execution_count": 57,
   "id": "a1c817aa-af6b-48f3-a895-76b0168e9569",
   "metadata": {
    "scrolled": true
   },
   "outputs": [
    {
     "ename": "NameError",
     "evalue": "name 'error' is not defined",
     "output_type": "error",
     "traceback": [
      "\u001b[0;31m---------------------------------------------------------------------------\u001b[0m",
      "\u001b[0;31mNameError\u001b[0m                                 Traceback (most recent call last)",
      "Cell \u001b[0;32mIn[57], line 7\u001b[0m\n\u001b[1;32m      5\u001b[0m data_forecast_linreg_joint_arr \u001b[38;5;241m=\u001b[39m []\n\u001b[1;32m      6\u001b[0m \u001b[38;5;28;01mfor\u001b[39;00m w \u001b[38;5;129;01min\u001b[39;00m w_arr:\n\u001b[0;32m----> 7\u001b[0m     data_forecast_linreg_joint_arr\u001b[38;5;241m.\u001b[39mappend(\u001b[43merror\u001b[49m(data_true,linreg_joint_forecast(data_true,h\u001b[38;5;241m=\u001b[39m\u001b[38;5;241m3\u001b[39m,w\u001b[38;5;241m=\u001b[39mw)))\n\u001b[1;32m      9\u001b[0m plt\u001b[38;5;241m.\u001b[39mplot(w_arr,data_forecast_linreg_joint_arr, label \u001b[38;5;241m=\u001b[39m \u001b[38;5;124m'\u001b[39m\u001b[38;5;124mjoint\u001b[39m\u001b[38;5;124m'\u001b[39m)\n\u001b[1;32m     10\u001b[0m plt\u001b[38;5;241m.\u001b[39mlegend()\n",
      "\u001b[0;31mNameError\u001b[0m: name 'error' is not defined"
     ]
    }
   ],
   "source": [
    "num = 50\n",
    "w_arr = np.arange(1,num)\n",
    "data_forecast__arr = []\n",
    "data_forecast_linreg_arr = []\n",
    "data_forecast_linreg_joint_arr = []\n",
    "for w in w_arr:\n",
    "    data_forecast_linreg_joint_arr.append(error(data_true,linreg_joint_forecast(data_true,h=3,w=w)))\n",
    "    \n",
    "plt.plot(w_arr,data_forecast_linreg_joint_arr, label = 'joint')\n",
    "plt.legend()"
   ]
  }
 ],
 "metadata": {
  "kernelspec": {
   "display_name": "Python 3 (ipykernel)",
   "language": "python",
   "name": "python3"
  },
  "language_info": {
   "codemirror_mode": {
    "name": "ipython",
    "version": 3
   },
   "file_extension": ".py",
   "mimetype": "text/x-python",
   "name": "python",
   "nbconvert_exporter": "python",
   "pygments_lexer": "ipython3",
   "version": "3.9.19"
  },
  "widgets": {
   "application/vnd.jupyter.widget-state+json": {
    "state": {},
    "version_major": 2,
    "version_minor": 0
   }
  }
 },
 "nbformat": 4,
 "nbformat_minor": 5
}
