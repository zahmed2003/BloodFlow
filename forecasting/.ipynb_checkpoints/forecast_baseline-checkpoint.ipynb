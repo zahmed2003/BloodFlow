{
 "cells": [
  {
   "cell_type": "code",
   "execution_count": 1,
   "id": "3d3f1894-7c63-467c-8886-ea72d18f40ee",
   "metadata": {},
   "outputs": [],
   "source": [
    "import pandas as pd, numpy as np\n",
    "import matplotlib.pyplot as plt"
   ]
  },
  {
   "cell_type": "code",
   "execution_count": 2,
   "id": "28bb6b8a-15f8-428d-b35f-13610c782ac1",
   "metadata": {},
   "outputs": [],
   "source": [
    "df = pd.read_csv('../data/data_synth.csv')\n",
    "df = df.drop(columns=['times'])\n",
    "data_true = df.to_numpy()"
   ]
  },
  {
   "cell_type": "code",
   "execution_count": 3,
   "id": "525d3f8b-ea66-4b65-ad76-371ab0f10f2c",
   "metadata": {},
   "outputs": [],
   "source": [
    "def error_component(arr_true, arr_forecast,p=2):\n",
    "    return np.linalg.norm(arr_true - arr_forecast, axis=0,ord=p)\n",
    "\n",
    "def error(data_true, data_forecast,h=3,p=2):\n",
    "    h = len(data_forecast[0])\n",
    "    error = np.array([error_component(data_true[i+1:i+h+1],data_forecast[i],p) for i in range(len(data_true)-h-1)])\n",
    "    \n",
    "    return np.sum(error)"
   ]
  },
  {
   "cell_type": "code",
   "execution_count": 4,
   "id": "3f574fe8-2b71-4998-bd11-da8e79c711a0",
   "metadata": {},
   "outputs": [],
   "source": [
    "def previous_value_forecast(data_true,h=3):\n",
    "    n = len(data_true)\n",
    "    data_forecast = np.zeros((n, h, 2))\n",
    "    \n",
    "    for i in range(n):\n",
    "        data_forecast[i,:,0] = data_true[i][0] \n",
    "        data_forecast[i,:,1] = data_true[i][1] \n",
    "\n",
    "    return data_forecast\n",
    "\n",
    "def avg_value_forecast(data_true,h=3,avg=7):\n",
    "    n = len(data_true)\n",
    "    data_forecast = np.zeros((n, h, 2))\n",
    "\n",
    "    for i in range(n):\n",
    "        supply_avg = np.mean(data_true[max(0,i-avg+1):i+1,0])\n",
    "        demand_avg = np.mean(data_true[max(0,i-avg+1):i+1,1])\n",
    "\n",
    "        data_forecast[i,:,0] = supply_avg\n",
    "        data_forecast[i,:,1] = demand_avg\n",
    "    return data_forecast\n",
    "            "
   ]
  },
  {
   "cell_type": "code",
   "execution_count": 5,
   "id": "95382734-ac99-49a7-8844-055e95cf0691",
   "metadata": {},
   "outputs": [
    {
     "name": "stdout",
     "output_type": "stream",
     "text": [
      "120431.73590676933\n",
      "130555.82526635093\n"
     ]
    }
   ],
   "source": [
    "data_forecast_avg = avg_value_forecast(data_true,h=3,avg=3)\n",
    "data_forecast_last = previous_value_forecast(data_true,h=3)\n",
    "\n",
    "print(error(data_true,data_forecast_avg))\n",
    "print(error(data_true,data_forecast_last))"
   ]
  },
  {
   "cell_type": "code",
   "execution_count": 6,
   "id": "06af817d-45e4-4f5c-aa3d-4d427077871a",
   "metadata": {},
   "outputs": [
    {
     "data": {
      "text/plain": [
       "[<matplotlib.lines.Line2D at 0x7fa338e66250>]"
      ]
     },
     "execution_count": 6,
     "metadata": {},
     "output_type": "execute_result"
    },
    {
     "data": {
      "image/png": "[encoded data removed]",
      "text/plain": [
       "<Figure size 432x288 with 1 Axes>"
      ]
     },
     "metadata": {
      "needs_background": "light"
     },
     "output_type": "display_data"
    }
   ],
   "source": [
    "num = 10\n",
    "avg_arr = np.linspace(1,10,10,dtype=int)\n",
    "data_forecast_avg_arr = []\n",
    "for avg in avg_arr:\n",
    "    data_forecast_avg_arr.append(error(data_true,avg_value_forecast(data_true,h=3,avg=avg)))\n",
    "\n",
    "plt.plot(avg_arr,data_forecast_avg_arr)\n",
    "plt.plot(avg_arr,error(data_true,previous_value_forecast(data_true,h=3))*np.ones(num))"
   ]
  },
  {
   "cell_type": "code",
   "execution_count": null,
   "id": "9f1a04d6-aeea-4740-b650-8217676d7f23",
   "metadata": {},
   "outputs": [],
   "source": []
  }
 ],
 "metadata": {
  "kernelspec": {
   "display_name": "Python 3 (ipykernel)",
   "language": "python",
   "name": "python3"
  },
  "language_info": {
   "codemirror_mode": {
    "name": "ipython",
    "version": 3
   },
   "file_extension": ".py",
   "mimetype": "text/x-python",
   "name": "python",
   "nbconvert_exporter": "python",
   "pygments_lexer": "ipython3",
   "version": "3.8.12"
  }
 },
 "nbformat": 4,
 "nbformat_minor": 5
}
