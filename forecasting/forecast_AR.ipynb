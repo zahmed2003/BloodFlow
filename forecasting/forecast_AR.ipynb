{
 "cells": [
  {
   "cell_type": "markdown",
   "id": "07f99247-dcd5-4c5a-9542-1454f03c021b",
   "metadata": {},
   "source": [
    "# AR Forecaster"
   ]
  },
  {
   "cell_type": "markdown",
   "id": "b201aef6-443d-4033-b503-5932c3185313",
   "metadata": {},
   "source": [
    "#### Imports"
   ]
  },
  {
   "cell_type": "code",
   "execution_count": 34,
   "id": "447b513b-cd1a-40a8-8e20-32f01cb79002",
   "metadata": {},
   "outputs": [],
   "source": [
    "import numpy as np\n",
    "import pandas as pd\n",
    "import matplotlib.pyplot as plt\n",
    "from sklearn.linear_model import LinearRegression\n",
    "from sklearn.metrics import mean_squared_error as mse_metric\n",
    "from sklearn.model_selection import KFold\n",
    "import seaborn as sns"
   ]
  },
  {
   "cell_type": "markdown",
   "id": "a105a562-44e1-4d55-a075-f322b0a70264",
   "metadata": {},
   "source": [
    "#### data setup"
   ]
  },
  {
   "cell_type": "code",
   "execution_count": 35,
   "id": "167ac958-7047-4476-88ca-22801fa2dcb5",
   "metadata": {},
   "outputs": [
    {
     "data": {
      "text/plain": [
       "(4, 2801, 2)"
      ]
     },
     "execution_count": 35,
     "metadata": {},
     "output_type": "execute_result"
    }
   ],
   "source": [
    "data_directory = '../data/experiment_small/'\n",
    "data = np.load(data_directory + 'network_params/data_network.npy')\n",
    "data = np.transpose(data, (1, 2, 0))\n",
    "data.shape"
   ]
  },
  {
   "cell_type": "code",
   "execution_count": 36,
   "id": "067e4bbc-6c65-49b3-8e2e-338d661db315",
   "metadata": {},
   "outputs": [],
   "source": [
    "data_train = data[:,:-3*365,:]\n",
    "data_val = data[:,-3*365:-365,:]\n",
    "data_test = data[:,-365:,:]"
   ]
  },
  {
   "cell_type": "code",
   "execution_count": 37,
   "id": "34abbea9-7915-4905-abc1-ea8ec350d435",
   "metadata": {},
   "outputs": [],
   "source": [
    "data_train_diff = np.diff(data_train, axis = 1)\n",
    "data_val_diff= np.diff(data_val, axis = 1)\n",
    "data_test_diff = np.diff(data_test, axis = 1)"
   ]
  },
  {
   "cell_type": "code",
   "execution_count": 39,
   "id": "7dbf53f7-b322-4585-9bf4-238172b97ac9",
   "metadata": {},
   "outputs": [
    {
     "data": {
      "text/plain": [
       "(4, 1705, 2)"
      ]
     },
     "execution_count": 39,
     "metadata": {},
     "output_type": "execute_result"
    }
   ],
   "source": [
    "data_train_diff.shape"
   ]
  },
  {
   "cell_type": "markdown",
   "id": "65d4f20d-1a61-4a4a-b1cd-951e645d675a",
   "metadata": {},
   "source": [
    "#### data prep"
   ]
  },
  {
   "cell_type": "code",
   "execution_count": 40,
   "id": "0073a4b1-66ae-422f-856c-e80037f947d3",
   "metadata": {},
   "outputs": [],
   "source": [
    "def data_slice(data, h, f):\n",
    "    T = h + f\n",
    "    samples = np.array([data[:,t:t + T,:] for t in range(len(data[0]) - T + 1)])\n",
    "    return samples[:, :, :h, :], samples[:, : , h:, :]"
   ]
  },
  {
   "cell_type": "markdown",
   "id": "8dd3ed38-94c0-4b20-84d4-1b54bbeb7a0b",
   "metadata": {},
   "source": [
    "#### AR forecaster"
   ]
  },
  {
   "cell_type": "code",
   "execution_count": 41,
   "id": "ba205ddb-1e71-4738-8998-35be49abb7eb",
   "metadata": {},
   "outputs": [],
   "source": [
    "def fit_AR_forecaster(hist_samples, future_samples):\n",
    "  \n",
    "    m, N, h, _ = hist_samples.shape\n",
    "    _, _, f, _ = future_samples.shape\n",
    "    \n",
    "    hist_sample_matrix = hist_samples.reshape(m * N, h * 2)\n",
    "    future_sample_matrix = future_samples.reshape(m * N, f * 2)\n",
    "    \n",
    "    model = LinearRegression()\n",
    "    model.fit(hist_sample_matrix, future_sample_matrix)\n",
    "\n",
    "    return model\n",
    "\n",
    "def get_AR_forecast(AR_model, history):\n",
    "    N, h, _ = history.shape\n",
    "    f = len(AR_model.intercept_)//2\n",
    "    history = history.reshape(N, 2 * h)\n",
    "\n",
    "    forecast = AR_model.predict(history)\n",
    "    return forecast.reshape(N,f,2)\n",
    "    "
   ]
  },
  {
   "cell_type": "markdown",
   "id": "fcb5e771-6f8b-452c-821a-83cc720f18ff",
   "metadata": {},
   "source": [
    "#### validation and $h$ hyperparameter fitting"
   ]
  },
  {
   "cell_type": "code",
   "execution_count": 29,
   "id": "02ab33f8-7898-4fb0-8673-2d5ca3225faa",
   "metadata": {},
   "outputs": [],
   "source": [
    "def get_mse(forecast, true_vals):\n",
    "    N, f , _ = forecast.shape\n",
    "    forecast = forecast.reshape(N, f * 2)\n",
    "    true_vals = true_vals.reshape(N, f * 2)\n",
    "    \n",
    "    return mse_metric(forecast, true_vals)\n",
    "    \n",
    "def get_AR_forecast_rmse(AR_model, hists, futures):\n",
    "    _, _, f, _ = futures.shape\n",
    "    forecasts = np.array([get_AR_forecast(AR_model, hist) for hist in hists])\n",
    "    mse = np.mean([get_mse(forecasts[i], futures[i]) for i in range(len(futures))])\n",
    "    return np.sqrt(mse)\n",
    "\n",
    "def AR_hyperparam_search(data_train, data_val, h_range, f=3):\n",
    "    val_rmses = []\n",
    "    for i, h in enumerate(h_range):\n",
    "        hist_train, future_train = data_slice(data_train, h = h, f = f)\n",
    "        hist_val, future_val = data_slice(data_val, h = h, f = f)\n",
    "\n",
    "        AR_model = fit_AR_forecaster(hist_train, future_train)\n",
    "        val_rmses += [get_AR_forecast_rmse(AR_model, hist_val, future_val)]\n",
    "    return val_rmses"
   ]
  },
  {
   "cell_type": "code",
   "execution_count": 32,
   "id": "8c48b8ab-3bba-453c-81c5-e038f4d1abb6",
   "metadata": {},
   "outputs": [],
   "source": [
    "h_range = np.arange(1,100)\n",
    "rmses_vs_h = AR_hyperparam_search(data_train, data_val, h_range, f=7)"
   ]
  },
  {
   "cell_type": "code",
   "execution_count": 33,
   "id": "dd5636c8-46df-4b87-b4c7-1b1c552ceded",
   "metadata": {},
   "outputs": [
    {
     "data": {
      "text/plain": [
       "[<matplotlib.lines.Line2D at 0x15f3e72b0>]"
      ]
     },
     "execution_count": 33,
     "metadata": {},
     "output_type": "execute_result"
    },
    {
     "data": {
      "image/png": "[encoded data removed]",
      "text/plain": [
       "<Figure size 640x480 with 1 Axes>"
      ]
     },
     "metadata": {},
     "output_type": "display_data"
    }
   ],
   "source": [
    "plt.plot(h_range, rmses_vs_h)"
   ]
  },
  {
   "cell_type": "code",
   "execution_count": null,
   "id": "d0e1defc-b651-41c4-9488-bb552da19fdc",
   "metadata": {},
   "outputs": [],
   "source": []
  }
 ],
 "metadata": {
  "kernelspec": {
   "display_name": "Python 3 (ipykernel)",
   "language": "python",
   "name": "python3"
  },
  "language_info": {
   "codemirror_mode": {
    "name": "ipython",
    "version": 3
   },
   "file_extension": ".py",
   "mimetype": "text/x-python",
   "name": "python",
   "nbconvert_exporter": "python",
   "pygments_lexer": "ipython3",
   "version": "3.8.12"
  },
  "widgets": {
   "application/vnd.jupyter.widget-state+json": {
    "state": {},
    "version_major": 2,
    "version_minor": 0
   }
  }
 },
 "nbformat": 4,
 "nbformat_minor": 5
}
