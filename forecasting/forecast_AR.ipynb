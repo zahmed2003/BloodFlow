{
 "cells": [
  {
   "cell_type": "markdown",
   "id": "07f99247-dcd5-4c5a-9542-1454f03c021b",
   "metadata": {},
   "source": [
    "# AR Forecaster"
   ]
  },
  {
   "cell_type": "markdown",
   "id": "b201aef6-443d-4033-b503-5932c3185313",
   "metadata": {},
   "source": [
    "#### Imports"
   ]
  },
  {
   "cell_type": "code",
   "execution_count": 85,
   "id": "447b513b-cd1a-40a8-8e20-32f01cb79002",
   "metadata": {},
   "outputs": [],
   "source": [
    "import numpy as np\n",
    "import pandas as pd\n",
    "import matplotlib.pyplot as plt\n",
    "from sklearn.linear_model import LinearRegression\n",
    "from sklearn.metrics import mean_squared_error as mse_metric\n",
    "from sklearn.model_selection import KFold\n",
    "import seaborn as sns"
   ]
  },
  {
   "cell_type": "markdown",
   "id": "a105a562-44e1-4d55-a075-f322b0a70264",
   "metadata": {},
   "source": [
    "#### data setup"
   ]
  },
  {
   "cell_type": "code",
   "execution_count": 86,
   "id": "167ac958-7047-4476-88ca-22801fa2dcb5",
   "metadata": {},
   "outputs": [
    {
     "data": {
      "text/plain": [
       "(4, 2801, 2)"
      ]
     },
     "execution_count": 86,
     "metadata": {},
     "output_type": "execute_result"
    }
   ],
   "source": [
    "data_directory = '../data/experiment_small/'\n",
    "data = np.load(data_directory + 'network_params/data_network.npy')\n",
    "data = np.transpose(data, (1, 2, 0))\n",
    "data.shape"
   ]
  },
  {
   "cell_type": "code",
   "execution_count": 87,
   "id": "067e4bbc-6c65-49b3-8e2e-338d661db315",
   "metadata": {},
   "outputs": [],
   "source": [
    "data_train = data[:,:-3*365,:]\n",
    "data_val = data[:,-3*365:-365,:]\n",
    "data_test = data[:,-365:,:]"
   ]
  },
  {
   "cell_type": "code",
   "execution_count": 88,
   "id": "7dbf53f7-b322-4585-9bf4-238172b97ac9",
   "metadata": {},
   "outputs": [
    {
     "data": {
      "text/plain": [
       "(4, 1706, 2)"
      ]
     },
     "execution_count": 88,
     "metadata": {},
     "output_type": "execute_result"
    }
   ],
   "source": [
    "data_train.shape"
   ]
  },
  {
   "cell_type": "markdown",
   "id": "65d4f20d-1a61-4a4a-b1cd-951e645d675a",
   "metadata": {},
   "source": [
    "#### data prep"
   ]
  },
  {
   "cell_type": "code",
   "execution_count": 89,
   "id": "0073a4b1-66ae-422f-856c-e80037f947d3",
   "metadata": {},
   "outputs": [],
   "source": [
    "def data_slice(data, h, f):\n",
    "    T = h + f\n",
    "    samples = np.array([data[:,t:t + T,:] for t in range(len(data[0]) - T + 1)])\n",
    "    return samples[:, :, :h, :], samples[:, : , h:, :]\n",
    "\n",
    "def get_mse(forecast, true_vals):\n",
    "    N, f , _ = forecast.shape\n",
    "    forecast = forecast.reshape(N, f * 2)\n",
    "    true_vals = true_vals.reshape(N, f * 2)\n",
    "    \n",
    "    return mse_metric(forecast, true_vals)"
   ]
  },
  {
   "cell_type": "markdown",
   "id": "8dd3ed38-94c0-4b20-84d4-1b54bbeb7a0b",
   "metadata": {},
   "source": [
    "#### AR forecaster"
   ]
  },
  {
   "cell_type": "code",
   "execution_count": 90,
   "id": "ba205ddb-1e71-4738-8998-35be49abb7eb",
   "metadata": {},
   "outputs": [],
   "source": [
    "def fit_AR_forecaster(hist_samples, future_samples):\n",
    "  \n",
    "    m, N, h, _ = hist_samples.shape\n",
    "    _, _, f, _ = future_samples.shape\n",
    "    \n",
    "    hist_sample_matrix = hist_samples.reshape(m * N, h * 2)\n",
    "    future_sample_matrix = future_samples.reshape(m * N, f * 2)\n",
    "    \n",
    "    model = LinearRegression()\n",
    "    model.fit(hist_sample_matrix, future_sample_matrix)\n",
    "\n",
    "    return model\n",
    "\n",
    "def get_AR_forecast(AR_model, history):\n",
    "    N, h, _ = history.shape\n",
    "    f = len(AR_model.intercept_)//2\n",
    "    history = history.reshape(N, 2 * h)\n",
    "\n",
    "    forecast = AR_model.predict(history)\n",
    "    return forecast.reshape(N,f,2)\n",
    "    "
   ]
  },
  {
   "cell_type": "markdown",
   "id": "fcb5e771-6f8b-452c-821a-83cc720f18ff",
   "metadata": {},
   "source": [
    "#### validation and $h$ hyperparameter fitting"
   ]
  },
  {
   "cell_type": "code",
   "execution_count": 91,
   "id": "02ab33f8-7898-4fb0-8673-2d5ca3225faa",
   "metadata": {},
   "outputs": [],
   "source": [
    "def get_AR_forecast_mse(AR_model, hists, futures):\n",
    "    _, _, f, _ = futures.shape\n",
    "    forecasts = np.array([get_AR_forecast(AR_model, hist) for hist in hists])\n",
    "    mse = np.mean([get_mse(forecasts[i], futures[i]) for i in range(len(futures))])\n",
    "    return mse\n",
    "\n",
    "def AR_hyperparam_search(data_train, data_val, h_range, f=3):\n",
    "    val_mses = []\n",
    "    for i, h in enumerate(h_range):\n",
    "        hist_train, future_train = data_slice(data_train, h = h, f = f)\n",
    "        hist_val, future_val = data_slice(data_val, h = h, f = f)\n",
    "\n",
    "        AR_model = fit_AR_forecaster(hist_train, future_train)\n",
    "        val_mses += [get_AR_forecast_mse(AR_model, hist_val, future_val)]\n",
    "    return val_mses"
   ]
  },
  {
   "cell_type": "code",
   "execution_count": 92,
   "id": "8c48b8ab-3bba-453c-81c5-e038f4d1abb6",
   "metadata": {},
   "outputs": [],
   "source": [
    "h_range = np.arange(1,50)\n",
    "mses_vs_h = AR_hyperparam_search(data_train, data_val, h_range, f=1)"
   ]
  },
  {
   "cell_type": "code",
   "execution_count": 93,
   "id": "dd5636c8-46df-4b87-b4c7-1b1c552ceded",
   "metadata": {},
   "outputs": [
    {
     "data": {
      "text/plain": [
       "[<matplotlib.lines.Line2D at 0x177a74100>]"
      ]
     },
     "execution_count": 93,
     "metadata": {},
     "output_type": "execute_result"
    },
    {
     "data": {
      "image/png": "[encoded data removed]",
      "text/plain": [
       "<Figure size 640x480 with 1 Axes>"
      ]
     },
     "metadata": {},
     "output_type": "display_data"
    }
   ],
   "source": [
    "plt.plot(h_range, mses_vs_h)"
   ]
  },
  {
   "cell_type": "code",
   "execution_count": 94,
   "id": "99815088-c25a-4d37-98d8-1fb5f7c0886b",
   "metadata": {},
   "outputs": [
    {
     "data": {
      "text/plain": [
       "0.1303106033559443"
      ]
     },
     "execution_count": 94,
     "metadata": {},
     "output_type": "execute_result"
    }
   ],
   "source": [
    "365/(1706+3*365)"
   ]
  },
  {
   "cell_type": "code",
   "execution_count": null,
   "id": "c19a3b40-561c-468c-86aa-ed78ab3891cc",
   "metadata": {},
   "outputs": [],
   "source": []
  }
 ],
 "metadata": {
  "kernelspec": {
   "display_name": "Python 3 (ipykernel)",
   "language": "python",
   "name": "python3"
  },
  "language_info": {
   "codemirror_mode": {
    "name": "ipython",
    "version": 3
   },
   "file_extension": ".py",
   "mimetype": "text/x-python",
   "name": "python",
   "nbconvert_exporter": "python",
   "pygments_lexer": "ipython3",
   "version": "3.9.19"
  },
  "widgets": {
   "application/vnd.jupyter.widget-state+json": {
    "state": {},
    "version_major": 2,
    "version_minor": 0
   }
  }
 },
 "nbformat": 4,
 "nbformat_minor": 5
}
