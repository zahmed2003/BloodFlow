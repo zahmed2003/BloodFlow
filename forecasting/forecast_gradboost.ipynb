{
 "cells": [
  {
   "cell_type": "markdown",
   "id": "eb814d6b-511a-49c3-af56-b3a19a555797",
   "metadata": {},
   "source": [
    "### Imports"
   ]
  },
  {
   "cell_type": "code",
   "execution_count": 1,
   "id": "984cb9be-b60f-4319-944e-7a57aefb33d9",
   "metadata": {},
   "outputs": [],
   "source": [
    "import numpy as np\n",
    "import pandas as pd\n",
    "import xgboost as xgb\n",
    "import seaborn as sns\n",
    "from sklearn.metrics import mean_squared_error as mse_metric\n",
    "from itertools import product\n",
    "import matplotlib.pyplot as plt"
   ]
  },
  {
   "cell_type": "code",
   "execution_count": 2,
   "id": "76797e5a-07b2-4d67-a815-2392d4c33527",
   "metadata": {},
   "outputs": [
    {
     "data": {
      "text/plain": [
       "(2, 2801, 2)"
      ]
     },
     "execution_count": 2,
     "metadata": {},
     "output_type": "execute_result"
    }
   ],
   "source": [
    "data_directory = '../data/experiment_verysmall/'\n",
    "data = np.load(data_directory + 'network_params/data_network.npy')\n",
    "data = np.transpose(data, (1, 2, 0))\n",
    "data.shape"
   ]
  },
  {
   "cell_type": "code",
   "execution_count": 3,
   "id": "1b01feca-6dfa-4b81-a0a6-43da38393d78",
   "metadata": {},
   "outputs": [],
   "source": [
    "data_train = data[:,:-3*365,:]\n",
    "data_val = data[:,-3*365:-365,:]\n",
    "data_test = data[:,-365:,:]"
   ]
  },
  {
   "cell_type": "markdown",
   "id": "aa859904-e7e2-4144-b48d-d7cef4f90f78",
   "metadata": {},
   "source": [
    "### data slicing"
   ]
  },
  {
   "cell_type": "code",
   "execution_count": 4,
   "id": "ecffbe33-775a-4112-9ca9-531086ea7efd",
   "metadata": {},
   "outputs": [],
   "source": [
    "def data_slice(data, h, f):\n",
    "    T = h + f\n",
    "    samples = np.array([data[:,t:t + T,:] for t in range(len(data[0]) - T + 1)])\n",
    "    return samples[:, :, :h, :], samples[:, : , h:, :]\n",
    "\n",
    "def get_mse(forecast, true_vals):\n",
    "    N, f , _ = forecast.shape\n",
    "    forecast = forecast.reshape(N, f * 2)\n",
    "    true_vals = true_vals.reshape(N, f * 2)\n",
    "    \n",
    "    return mse_metric(forecast, true_vals)"
   ]
  },
  {
   "cell_type": "markdown",
   "id": "0a9706c8-a3a6-4b69-8dac-153fda73e61e",
   "metadata": {},
   "source": [
    "### gradboost forecaster"
   ]
  },
  {
   "cell_type": "code",
   "execution_count": 5,
   "id": "4dc4109c-115e-4e96-81d4-f4e13be23263",
   "metadata": {},
   "outputs": [],
   "source": [
    "def fit_gbst_forecaster(hist_samples, future_samples, params):\n",
    "    m, N, h, _ = hist_samples.shape\n",
    "    _, _, f, _ = future_samples.shape\n",
    "    \n",
    "    hist_sample_matrix = hist_samples.reshape(m * N, h * 2)\n",
    "    future_sample_matrix = future_samples.reshape(m * N, f * 2)\n",
    "    gbst = xgb.XGBRegressor(max_depth = params['max_depth'], min_child_weight = params['min_child_weight'],\n",
    "                            learning_rate = params['learning_rate'])\n",
    "    gbst.fit(hist_sample_matrix, future_sample_matrix)\n",
    "    return gbst\n",
    "\n",
    "def get_gbst_forecast(gbst_model, history, f):\n",
    "    N, h, _ = history.shape\n",
    "    history = history.reshape(N, 2 * h)\n",
    "\n",
    "    forecast = gbst_model.predict(history)\n",
    "    return forecast.reshape(N,f,2)"
   ]
  },
  {
   "cell_type": "code",
   "execution_count": 6,
   "id": "c64e4d19-3fac-464b-a9b0-ebe675d4fa61",
   "metadata": {},
   "outputs": [],
   "source": [
    "def gbst_diff_val_exp(data_train, data_val, params):\n",
    "    h = params['h']\n",
    "    f = params['f']\n",
    "    model_params = params['model_params']\n",
    "    data_train_diff = np.diff(data_train, axis = 1)\n",
    "    data_val_diff = np.diff(data_val, axis = 1)\n",
    "    \n",
    "\n",
    "    hist_train_samples_diff, future_train_samples_diff = data_slice(data_train_diff, h, f)\n",
    "    hist_val_samples_diff, future_val_samples_diff= data_slice(data_val_diff, h, f)\n",
    "\n",
    "    hist_train_samples, future_train_samples = data_slice(data_train, h, f)\n",
    "    hist_val_samples, future_val_samples= data_slice(data_val, h, f)\n",
    "\n",
    "    gbst_diff = fit_gbst_forecaster(hist_train_samples_diff, future_train_samples_diff, model_params)\n",
    "    forecasts_diff = np.array([get_gbst_forecast(gbst_diff, hist, f) for hist in hist_val_samples_diff])\n",
    "    forecasts_change = np.cumsum(forecasts_diff, axis = 2)\n",
    "\n",
    "    hist_holds = np.array([np.repeat(hist[:,np.newaxis, -1,:], axis = 1, repeats = f) for hist in hist_val_samples])\n",
    "\n",
    "    forecasts = hist_holds[:-1] + forecasts_change\n",
    "\n",
    "    mses = np.array([get_mse(forecasts[i], future_val_samples[i]) for i in range(len(future_val_samples)-1)])\n",
    "    return np.mean(mses)"
   ]
  },
  {
   "cell_type": "code",
   "execution_count": 7,
   "id": "1eec2a06-5ab7-465e-9bd3-214371e5bfd5",
   "metadata": {},
   "outputs": [],
   "source": [
    "h, f = 5, 7\n",
    "model_params = {'max_depth':6, 'min_child_weight':0, 'learning_rate':0.07}\n",
    "params = {'f':f, 'h':h, 'model_params':model_params}"
   ]
  },
  {
   "cell_type": "code",
   "execution_count": 8,
   "id": "d0a7073c-cc6c-4bdc-b929-974097c32ea1",
   "metadata": {},
   "outputs": [
    {
     "data": {
      "text/plain": [
       "5.7099325293364265"
      ]
     },
     "execution_count": 8,
     "metadata": {},
     "output_type": "execute_result"
    }
   ],
   "source": [
    "rmse = np.sqrt(gbst_diff_val_exp(data_train, data_val, params))\n",
    "rmse"
   ]
  },
  {
   "cell_type": "markdown",
   "id": "3857dcf6-21e6-47f9-931b-b647bbd6385d",
   "metadata": {},
   "source": [
    "#### hyperparam tuning"
   ]
  },
  {
   "cell_type": "code",
   "execution_count": 11,
   "id": "81dae52b-3669-41fb-b928-1cfc6f4aecd1",
   "metadata": {},
   "outputs": [],
   "source": [
    "def gbst_hyperparam_search(data_train, data_val, param_space):\n",
    "\n",
    "    param_combinations = list(product(\n",
    "        param_space[\"max_depth\"],\n",
    "        param_space[\"learning_rate\"],\n",
    "        param_space[\"min_child_weight\"],\n",
    "        param_space[\"h\"],\n",
    "        param_space[\"f\"]\n",
    "    ))\n",
    "\n",
    "    num_comb = len(param_combinations)\n",
    "\n",
    "    best_params = None\n",
    "    best_score = float(\"inf\")\n",
    "    for i, combination in enumerate(param_combinations):\n",
    "        \n",
    "        model_params = {\n",
    "            \"max_depth\": combination[0],\n",
    "            \"learning_rate\": combination[1],\n",
    "            \"min_child_weight\": combination[2], \n",
    "        }\n",
    "        h = combination[3] \n",
    "        f = combination[4]\n",
    "        params = {'f':f, 'h':h, 'model_params':model_params}\n",
    "        \n",
    "        rmse = np.sqrt(gbst_diff_val_exp(data_train, data_val, params))\n",
    "        if (i+1) % 5 == 0:\n",
    "            print(f'progress: {i+1}/{num_comb}')\n",
    "        if rmse < best_score:\n",
    "            best_params = params\n",
    "            best_score = rmse\n",
    " \n",
    "    return best_score, best_params"
   ]
  },
  {
   "cell_type": "code",
   "execution_count": 15,
   "id": "3d1fde45-a5af-4723-9dc1-9f456d4c1ba2",
   "metadata": {},
   "outputs": [],
   "source": [
    "## found via co-ordinate wise descent. good, but not guaranteed optimal\n",
    "param_grid = {\n",
    "    \"max_depth\": np.arange(1,4),\n",
    "    \"learning_rate\": [0.45],\n",
    "    \"min_child_weight\": [0],\n",
    "    \"h\": np.arange(8,15),\n",
    "    \"f\": [7], \n",
    "}"
   ]
  },
  {
   "cell_type": "code",
   "execution_count": 16,
   "id": "ae3d07b6-5c3d-41e2-b726-10f7eea523ef",
   "metadata": {},
   "outputs": [
    {
     "name": "stdout",
     "output_type": "stream",
     "text": [
      "progress: 5/21\n",
      "progress: 10/21\n",
      "progress: 15/21\n",
      "progress: 20/21\n"
     ]
    }
   ],
   "source": [
    "best_mse, best_params = gbst_hyperparam_search(data_train, data_val, param_grid)"
   ]
  },
  {
   "cell_type": "code",
   "execution_count": 17,
   "id": "1066094e-f393-4128-a153-132ff593b05a",
   "metadata": {},
   "outputs": [
    {
     "name": "stdout",
     "output_type": "stream",
     "text": [
      "5.384237230223881\n"
     ]
    },
    {
     "data": {
      "text/plain": [
       "{'f': 7,\n",
       " 'h': 9,\n",
       " 'model_params': {'max_depth': 1,\n",
       "  'learning_rate': 0.45,\n",
       "  'min_child_weight': 0}}"
      ]
     },
     "execution_count": 17,
     "metadata": {},
     "output_type": "execute_result"
    }
   ],
   "source": [
    "print(best_mse)\n",
    "best_params"
   ]
  },
  {
   "cell_type": "markdown",
   "id": "e5fb9739-d52f-4ceb-a009-411d00683044",
   "metadata": {},
   "source": [
    "### single example"
   ]
  },
  {
   "cell_type": "code",
   "execution_count": 10,
   "id": "4b32385a-6190-41cc-8d9b-046ca1dd2450",
   "metadata": {},
   "outputs": [],
   "source": [
    "h, f = 7, 3\n",
    "hist_train, future_train = data_slice(data_train, h = h, f = f)\n",
    "hist_val, future_val = data_slice(data_val, h = h, f = f)\n",
    "hist_test, future_test = data_slice(data_test, h = h, f = f)"
   ]
  },
  {
   "cell_type": "code",
   "execution_count": 13,
   "id": "601d89ae-e27e-4340-a7a5-284b94dd3aee",
   "metadata": {},
   "outputs": [
    {
     "name": "stdout",
     "output_type": "stream",
     "text": [
      "42.122551908979176\n"
     ]
    }
   ],
   "source": [
    "h, f = 20, 3\n",
    "model_params = {'max_depth':6, 'min_child_weight':1, 'learning_rate':1}\n",
    "params = {'f':f, 'h':h, 'model_params':model_params}\n",
    "mse = gbst_val_exp(hist_train, future_train, hist_val, future_val, params)\n",
    "print(mse)"
   ]
  },
  {
   "cell_type": "code",
   "execution_count": 119,
   "id": "aace6a1b-5408-48a3-9537-564ac2768394",
   "metadata": {},
   "outputs": [
    {
     "data": {
      "text/plain": [
       "[<matplotlib.lines.Line2D at 0x13dbbf790>,\n",
       " <matplotlib.lines.Line2D at 0x13dbbf880>,\n",
       " <matplotlib.lines.Line2D at 0x13dbbf970>,\n",
       " <matplotlib.lines.Line2D at 0x13dbbfa60>]"
      ]
     },
     "execution_count": 119,
     "metadata": {},
     "output_type": "execute_result"
    },
    {
     "data": {
      "image/png": "[encoded data removed]",
      "text/plain": [
       "<Figure size 640x480 with 1 Axes>"
      ]
     },
     "metadata": {},
     "output_type": "display_data"
    }
   ],
   "source": [
    "plt.plot(np.diff(data_train[:,:,1]).T)"
   ]
  },
  {
   "cell_type": "code",
   "execution_count": null,
   "id": "4e9e3883-10da-4a76-8f36-62c6b4f09fe3",
   "metadata": {},
   "outputs": [],
   "source": []
  }
 ],
 "metadata": {
  "kernelspec": {
   "display_name": "Python 3 (ipykernel)",
   "language": "python",
   "name": "python3"
  },
  "language_info": {
   "codemirror_mode": {
    "name": "ipython",
    "version": 3
   },
   "file_extension": ".py",
   "mimetype": "text/x-python",
   "name": "python",
   "nbconvert_exporter": "python",
   "pygments_lexer": "ipython3",
   "version": "3.9.19"
  },
  "widgets": {
   "application/vnd.jupyter.widget-state+json": {
    "state": {},
    "version_major": 2,
    "version_minor": 0
   }
  }
 },
 "nbformat": 4,
 "nbformat_minor": 5
}
