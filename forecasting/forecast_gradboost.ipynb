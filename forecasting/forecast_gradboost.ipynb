{
 "cells": [
  {
   "cell_type": "markdown",
   "id": "eb814d6b-511a-49c3-af56-b3a19a555797",
   "metadata": {},
   "source": [
    "### Imports"
   ]
  },
  {
   "cell_type": "code",
   "execution_count": 22,
   "id": "984cb9be-b60f-4319-944e-7a57aefb33d9",
   "metadata": {},
   "outputs": [],
   "source": [
    "import numpy as np\n",
    "import pandas as pd\n",
    "import xgboost as xgb\n",
    "import seaborn as sns\n",
    "from sklearn.metrics import mean_squared_error as mse_metric\n",
    "from itertools import product"
   ]
  },
  {
   "cell_type": "code",
   "execution_count": 23,
   "id": "76797e5a-07b2-4d67-a815-2392d4c33527",
   "metadata": {},
   "outputs": [
    {
     "data": {
      "text/plain": [
       "(4, 2801, 2)"
      ]
     },
     "execution_count": 23,
     "metadata": {},
     "output_type": "execute_result"
    }
   ],
   "source": [
    "data_directory = '../data/experiment_small/'\n",
    "data = np.load(data_directory + 'network_params/data_network.npy')\n",
    "data = np.transpose(data, (1, 2, 0))\n",
    "data.shape"
   ]
  },
  {
   "cell_type": "code",
   "execution_count": 35,
   "id": "1b01feca-6dfa-4b81-a0a6-43da38393d78",
   "metadata": {},
   "outputs": [],
   "source": [
    "data_train = data[:,:-3*365,:]\n",
    "data_val = data[:,-3*365:-365,:]\n",
    "data_test = data[:,-365:,:]"
   ]
  },
  {
   "cell_type": "markdown",
   "id": "aa859904-e7e2-4144-b48d-d7cef4f90f78",
   "metadata": {},
   "source": [
    "### data slicing"
   ]
  },
  {
   "cell_type": "code",
   "execution_count": 36,
   "id": "ecffbe33-775a-4112-9ca9-531086ea7efd",
   "metadata": {},
   "outputs": [],
   "source": [
    "def data_slice(data, h, f):\n",
    "    T = h + f\n",
    "    samples = np.array([data[:,t:t + T,:] for t in range(len(data[0]) - T + 1)])\n",
    "    return samples[:, :, :h, :], samples[:, : , h:, :]\n",
    "\n",
    "def get_mse(forecast, true_vals):\n",
    "    N, f , _ = forecast.shape\n",
    "    forecast = forecast.reshape(N, f * 2)\n",
    "    true_vals = true_vals.reshape(N, f * 2)\n",
    "    \n",
    "    return mse_metric(forecast, true_vals)"
   ]
  },
  {
   "cell_type": "markdown",
   "id": "0a9706c8-a3a6-4b69-8dac-153fda73e61e",
   "metadata": {},
   "source": [
    "### gradboost forecaster"
   ]
  },
  {
   "cell_type": "code",
   "execution_count": 37,
   "id": "4dc4109c-115e-4e96-81d4-f4e13be23263",
   "metadata": {},
   "outputs": [],
   "source": [
    "def fit_gbst_forecaster(hist_samples, future_samples, params):\n",
    "    m, N, h, _ = hist_samples.shape\n",
    "    _, _, f, _ = future_samples.shape\n",
    "    \n",
    "    hist_sample_matrix = hist_samples.reshape(m * N, h * 2)\n",
    "    future_sample_matrix = future_samples.reshape(m * N, f * 2)\n",
    "    gbst = xgb.XGBRegressor(max_depth = params['max_depth'], min_child_weight = params['min_child_weight'],\n",
    "                            learning_rate = params['learning_rate'])\n",
    "    gbst.fit(hist_sample_matrix, future_sample_matrix)\n",
    "    return gbst\n",
    "\n",
    "def get_gbst_forecast(gbst_model, history, f):\n",
    "    N, h, _ = history.shape\n",
    "    history = history.reshape(N, 2 * h)\n",
    "\n",
    "    forecast = gbst_model.predict(history)\n",
    "    return forecast.reshape(N,f,2)"
   ]
  },
  {
   "cell_type": "markdown",
   "id": "3857dcf6-21e6-47f9-931b-b647bbd6385d",
   "metadata": {},
   "source": [
    "#### hyperparam tuning"
   ]
  },
  {
   "cell_type": "code",
   "execution_count": 38,
   "id": "81dae52b-3669-41fb-b928-1cfc6f4aecd1",
   "metadata": {},
   "outputs": [],
   "source": [
    "def get_gbst_forecast_mse(gbst_model, hists, futures):\n",
    "    _, _, f, _ = futures.shape\n",
    "    forecasts = np.array([get_gbst_forecast(gbst_model, hist, f = f) for hist in hists])\n",
    "    mses = np.array([get_mse(forecasts[i], futures[i]) for i in range(len(futures))])\n",
    "    return mses\n",
    "\n",
    "def gbst_val_exp(hist_train, future_train, hist_val, future_val, params):\n",
    "    h, f = params['h'], params['f']\n",
    "    model_params = params['model_params']\n",
    "    gbst_model = fit_gbst_forecaster(hist_train, future_train, model_params)\n",
    "    val_mses = get_gbst_forecast_mse(gbst_model, hist_val, future_val)\n",
    "    return np.mean(val_mses)\n",
    "\n",
    "def gbst_hyperparam_search(data_train, data_val, param_space):\n",
    "\n",
    "    param_combinations = list(product(\n",
    "        param_space[\"max_depth\"],\n",
    "        param_space[\"learning_rate\"],\n",
    "        param_space[\"min_child_weight\"],\n",
    "        param_space[\"h\"],\n",
    "        param_space[\"f\"]\n",
    "    ))\n",
    "\n",
    "    num_comb = len(param_combinations)\n",
    "\n",
    "    best_params = None\n",
    "    best_score = float(\"inf\")\n",
    "    for i, combination in enumerate(param_combinations):\n",
    "        model_params = {\n",
    "            \"max_depth\": combination[0],\n",
    "            \"learning_rate\": combination[1],\n",
    "            \"min_child_weight\": combination[2]\n",
    "        }\n",
    "        h, f =  combination[3], combination[4]\n",
    "        hist_train, future_train = data_slice(data_train, h = h, f = f)\n",
    "        hist_val, future_val = data_slice(data_val, h = h, f = f)\n",
    "\n",
    "        params = {'model_params': model_params, 'h':h, 'f':f}\n",
    "        mse = gbst_val_exp(hist_train, future_train, hist_val, future_val, params)\n",
    "        if (i+1) % 5 == 0:\n",
    "            print(f'progress: {i+1}/{num_comb}')\n",
    "        if mse < best_score:\n",
    "            best_params = params\n",
    "            best_score = mse\n",
    " \n",
    "    return best_score, best_params"
   ]
  },
  {
   "cell_type": "code",
   "execution_count": 54,
   "id": "3d1fde45-a5af-4723-9dc1-9f456d4c1ba2",
   "metadata": {},
   "outputs": [],
   "source": [
    "## found via co-ordinate wise descent. good, but not guaranteed optimal\n",
    "param_grid = {\n",
    "    \"max_depth\": [5, 15, 20],\n",
    "    \"learning_rate\": [0.07],\n",
    "    \"min_child_weight\": [0],\n",
    "    \"h\": np.arange(5,10),\n",
    "    \"f\": [1], \n",
    "}"
   ]
  },
  {
   "cell_type": "code",
   "execution_count": 55,
   "id": "ae3d07b6-5c3d-41e2-b726-10f7eea523ef",
   "metadata": {},
   "outputs": [
    {
     "name": "stdout",
     "output_type": "stream",
     "text": [
      "progress: 5/15\n",
      "progress: 10/15\n",
      "progress: 15/15\n"
     ]
    }
   ],
   "source": [
    "best_mse, best_params = gbst_hyperparam_search(data_train, data_val, param_grid)"
   ]
  },
  {
   "cell_type": "code",
   "execution_count": 56,
   "id": "1066094e-f393-4128-a153-132ff593b05a",
   "metadata": {},
   "outputs": [
    {
     "name": "stdout",
     "output_type": "stream",
     "text": [
      "72.70115763406756\n"
     ]
    },
    {
     "data": {
      "text/plain": [
       "{'model_params': {'max_depth': 15,\n",
       "  'learning_rate': 0.07,\n",
       "  'min_child_weight': 0},\n",
       " 'h': 6,\n",
       " 'f': 1}"
      ]
     },
     "execution_count": 56,
     "metadata": {},
     "output_type": "execute_result"
    }
   ],
   "source": [
    "print(best_mse)\n",
    "best_params"
   ]
  },
  {
   "cell_type": "markdown",
   "id": "e5fb9739-d52f-4ceb-a009-411d00683044",
   "metadata": {},
   "source": [
    "### single example"
   ]
  },
  {
   "cell_type": "code",
   "execution_count": 10,
   "id": "4b32385a-6190-41cc-8d9b-046ca1dd2450",
   "metadata": {},
   "outputs": [],
   "source": [
    "h, f = 7, 3\n",
    "hist_train, future_train = data_slice(data_train, h = h, f = f)\n",
    "hist_val, future_val = data_slice(data_val, h = h, f = f)\n",
    "hist_test, future_test = data_slice(data_test, h = h, f = f)"
   ]
  },
  {
   "cell_type": "code",
   "execution_count": 13,
   "id": "601d89ae-e27e-4340-a7a5-284b94dd3aee",
   "metadata": {},
   "outputs": [
    {
     "name": "stdout",
     "output_type": "stream",
     "text": [
      "42.122551908979176\n"
     ]
    }
   ],
   "source": [
    "h, f = 20, 3\n",
    "model_params = {'max_depth':6, 'min_child_weight':1, 'learning_rate':1}\n",
    "params = {'f':f, 'h':h, 'model_params':model_params}\n",
    "mse = gbst_val_exp(hist_train, future_train, hist_val, future_val, params)\n",
    "print(mse)"
   ]
  },
  {
   "cell_type": "code",
   "execution_count": null,
   "id": "aace6a1b-5408-48a3-9537-564ac2768394",
   "metadata": {},
   "outputs": [],
   "source": []
  }
 ],
 "metadata": {
  "kernelspec": {
   "display_name": "Python 3 (ipykernel)",
   "language": "python",
   "name": "python3"
  },
  "language_info": {
   "codemirror_mode": {
    "name": "ipython",
    "version": 3
   },
   "file_extension": ".py",
   "mimetype": "text/x-python",
   "name": "python",
   "nbconvert_exporter": "python",
   "pygments_lexer": "ipython3",
   "version": "3.9.19"
  },
  "widgets": {
   "application/vnd.jupyter.widget-state+json": {
    "state": {},
    "version_major": 2,
    "version_minor": 0
   }
  }
 },
 "nbformat": 4,
 "nbformat_minor": 5
}
