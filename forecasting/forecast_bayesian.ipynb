{
 "cells": [
  {
   "cell_type": "markdown",
   "id": "ab762360-8f87-4959-9e0f-7cdb441a9650",
   "metadata": {},
   "source": [
    "# Bayesian Forecaster"
   ]
  },
  {
   "cell_type": "markdown",
   "id": "47b058e6-a81e-4d71-beb5-71a012f081c1",
   "metadata": {},
   "source": [
    "#### Imports"
   ]
  },
  {
   "cell_type": "code",
   "execution_count": 5,
   "id": "599f543b-8ed4-4ca0-b12b-585a1b92dedd",
   "metadata": {},
   "outputs": [],
   "source": [
    "import numpy as np\n",
    "import pymc as pm\n",
    "import pytensor.tensor as pt\n",
    "import pandas as pd\n",
    "import arviz as az"
   ]
  },
  {
   "cell_type": "markdown",
   "id": "cb794727-80cb-4532-8643-262d4cc09f52",
   "metadata": {},
   "source": [
    "#### data setup"
   ]
  },
  {
   "cell_type": "code",
   "execution_count": 6,
   "id": "1e937c82-f249-4f19-a987-99486a8b6a34",
   "metadata": {},
   "outputs": [],
   "source": [
    "# importing data\n",
    "data_directory = '../data/experiment_small/'\n",
    "data = np.load(data_directory + 'network_params/data_network.npy')\n",
    "data = np.transpose(data, (2,1, 0))\n",
    "\n",
    "#reshaping and trimming to exclude the last year\n",
    "data = data.reshape(len(data),2*len(data[0]))\n",
    "data = data[:-3*365,:]\n",
    "T,D = data.shape\n",
    "\n",
    "# creating the dataframe\n",
    "hospital_list = np.loadtxt(data_directory + 'network_params/hospitals.txt', dtype=str, delimiter='\\n')\n",
    "df_cols = np.array([[h + ' supply',h + ' demand'] for h in hospital_list]).reshape(D)\n",
    "df = pd.DataFrame(data, columns=df_cols)"
   ]
  },
  {
   "cell_type": "markdown",
   "id": "2bd6e31b-56d4-4494-8137-bcd5b6d6242d",
   "metadata": {},
   "source": [
    "#### constructing the BVAR model"
   ]
  },
  {
   "cell_type": "code",
   "execution_count": 10,
   "id": "479cd956-14fb-4867-acd2-e5218e28dc65",
   "metadata": {},
   "outputs": [],
   "source": [
    "def ar_update(beta,n,h,df):\n",
    "    update = []\n",
    "    for i in range(n):\n",
    "        beta_temp = pm.math.sum([\n",
    "            pm.math.sum(beta[i,j] * df.values[h-(j+1):-(j+1)],axis=-1)\n",
    "            for j in range(h)\n",
    "        ],axis=0)\n",
    "        \n",
    "        update.append(beta_temp)\n",
    "\n",
    "    update = pm.math.stack(update, axis=-1)\n",
    "    return update\n",
    "\n",
    "def bvar_model(h,df,priors):\n",
    "    coords = {\n",
    "        \"lags\": np.arange(h)+1,\n",
    "        \"vars\": df.columns.tolist(),\n",
    "        \"time\": [t for t in df.index[h:]]\n",
    "    }\n",
    "\n",
    "    with pm.Model(coords=coords) as model:\n",
    "        beta = pm.Normal(\n",
    "            \"beta\",\n",
    "            mu=priors[\"beta\"][\"mu\"],\n",
    "            sigma=priors[\"beta\"][\"sigma\"],\n",
    "            dims=(\"vars\",\"lags\",\"vars\")\n",
    "        )\n",
    "        alpha = pm.Normal(\n",
    "            \"alpha\",\n",
    "            mu=priors[\"alpha\"][\"mu\"],\n",
    "            sigma=priors[\"alpha\"][\"sigma\"],\n",
    "            dims=(\"vars\",)\n",
    "        )\n",
    "        data_obs = pm.Data(\n",
    "            \"data_obs\",\n",
    "            df.values[h:], \n",
    "            dims=(\"time\",\"vars\"),\n",
    "            mutable=True\n",
    "        )\n",
    "\n",
    "        n = df.shape[1]\n",
    "        betaX = ar_update(beta,n,h,df)\n",
    "        betaX = pm.Deterministic(\n",
    "            \"betaX\",\n",
    "            betaX,\n",
    "            dims=(\"time\",)\n",
    "        )\n",
    "        mu = alpha + betaX\n",
    "        sigma = pm.HalfNormal(\n",
    "            \"noise\",\n",
    "            sigma=priors[\"noise\"][\"sigma\"],\n",
    "            dims=[\"vars\"]\n",
    "        )\n",
    "        obs = pm.Normal(\n",
    "            \"obs\",\n",
    "            mu=mu,\n",
    "            sigma=sigma,\n",
    "            observed=data_obs,\n",
    "            dims=[\"time\", \"vars\"]\n",
    "            )\n",
    "        trace = pm.sample(chains=4, random_seed=42)\n",
    "    return model,trace"
   ]
  },
  {
   "cell_type": "markdown",
   "id": "74e6912d-218d-47cc-9c39-13e9585a0363",
   "metadata": {},
   "source": [
    "#### results"
   ]
  },
  {
   "cell_type": "code",
   "execution_count": null,
   "id": "d1e54ad4-3679-41bf-a176-e1b7b4d9fe6c",
   "metadata": {},
   "outputs": [
    {
     "name": "stderr",
     "output_type": "stream",
     "text": [
      "Sampling: [alpha, beta, noise, obs]\n",
      "Auto-assigning NUTS sampler...\n",
      "Initializing NUTS using jitter+adapt_diag...\n",
      "Multiprocess sampling (4 chains in 4 jobs)\n",
      "NUTS: [beta, alpha, noise]\n"
     ]
    },
    {
     "data": {
      "text/html": [
       "\n",
       "<style>\n",
       "    /* Turns off some styling */\n",
       "    progress {\n",
       "        /* gets rid of default border in Firefox and Opera. */\n",
       "        border: none;\n",
       "        /* Needs to be in here for Safari polyfill so background images work as expected. */\n",
       "        background-size: auto;\n",
       "    }\n",
       "    progress:not([value]), progress:not([value])::-webkit-progress-bar {\n",
       "        background: repeating-linear-gradient(45deg, #7e7e7e, #7e7e7e 10px, #5c5c5c 10px, #5c5c5c 20px);\n",
       "    }\n",
       "    .progress-bar-interrupted, .progress-bar-interrupted::-webkit-progress-bar {\n",
       "        background: #F44336;\n",
       "    }\n",
       "</style>\n"
      ],
      "text/plain": [
       "<IPython.core.display.HTML object>"
      ]
     },
     "metadata": {},
     "output_type": "display_data"
    },
    {
     "data": {
      "text/html": [
       "\n",
       "    <div>\n",
       "      <progress value='5007' class='' max='6000' style='width:300px; height:20px; vertical-align: middle;'></progress>\n",
       "      83.45% [5007/6000 30:12&lt;05:59 Sampling 4 chains, 0 divergences]\n",
       "    </div>\n",
       "    "
      ],
      "text/plain": [
       "<IPython.core.display.HTML object>"
      ]
     },
     "metadata": {},
     "output_type": "display_data"
    }
   ],
   "source": [
    "h = 3\n",
    "priors = {\n",
    "    \"beta\": {\"mu\": 0.0, \"sigma\": 100},\n",
    "    \"alpha\": {\"mu\": 0, \"sigma\": 100},\n",
    "    \"noise\": {\"sigma\": 10}\n",
    "}\n",
    "\n",
    "model, idata = bvar_model(h, df, priors)"
   ]
  },
  {
   "cell_type": "code",
   "execution_count": null,
   "id": "21dca7cb-658d-4ac2-b515-d377e83034f2",
   "metadata": {},
   "outputs": [],
   "source": [
    "az.summary(idata, var_names=[\"alpha\", \"beta\",\"noise\"])\n",
    "az.plot_trace(idata)"
   ]
  },
  {
   "cell_type": "code",
   "execution_count": null,
   "id": "f62c0ee6-2f1e-4756-ba30-9691a35fc61d",
   "metadata": {},
   "outputs": [],
   "source": []
  }
 ],
 "metadata": {
  "kernelspec": {
   "display_name": "Python 3 (ipykernel)",
   "language": "python",
   "name": "python3"
  },
  "language_info": {
   "codemirror_mode": {
    "name": "ipython",
    "version": 3
   },
   "file_extension": ".py",
   "mimetype": "text/x-python",
   "name": "python",
   "nbconvert_exporter": "python",
   "pygments_lexer": "ipython3",
   "version": "3.9.19"
  },
  "widgets": {
   "application/vnd.jupyter.widget-state+json": {
    "state": {},
    "version_major": 2,
    "version_minor": 0
   }
  }
 },
 "nbformat": 4,
 "nbformat_minor": 5
}
