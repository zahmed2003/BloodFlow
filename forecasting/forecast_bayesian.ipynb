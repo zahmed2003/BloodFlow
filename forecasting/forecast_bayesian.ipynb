{
 "cells": [
  {
   "cell_type": "markdown",
   "id": "ab762360-8f87-4959-9e0f-7cdb441a9650",
   "metadata": {},
   "source": [
    "# Bayesian Forecaster"
   ]
  },
  {
   "cell_type": "markdown",
   "id": "47b058e6-a81e-4d71-beb5-71a012f081c1",
   "metadata": {},
   "source": [
    "#### Imports"
   ]
  },
  {
   "cell_type": "code",
   "execution_count": 1,
   "id": "599f543b-8ed4-4ca0-b12b-585a1b92dedd",
   "metadata": {},
   "outputs": [],
   "source": [
    "import numpy as np\n",
    "import pymc as pm\n",
    "import pytensor.tensor as pt\n",
    "import pandas as pd\n",
    "import arviz as az"
   ]
  },
  {
   "cell_type": "markdown",
   "id": "cb794727-80cb-4532-8643-262d4cc09f52",
   "metadata": {},
   "source": [
    "#### data setup"
   ]
  },
  {
   "cell_type": "code",
   "execution_count": 2,
   "id": "1e937c82-f249-4f19-a987-99486a8b6a34",
   "metadata": {},
   "outputs": [],
   "source": [
    "data_directory = '../data/experiment_small/'\n",
    "data = np.load(data_directory + 'network_params/data_network.npy')\n",
    "data = np.transpose(data, (2,1, 0))\n",
    "\n",
    "data = data.reshape(len(data),2*len(data[0]))\n",
    "data_future = data[2556:,:]\n",
    "data = data[:2556,:]\n",
    "\n",
    "T,D = data.shape\n",
    "h = 7\n",
    "f = 7"
   ]
  },
  {
   "cell_type": "markdown",
   "id": "2bd6e31b-56d4-4494-8137-bcd5b6d6242d",
   "metadata": {},
   "source": [
    "#### training the model"
   ]
  },
  {
   "cell_type": "code",
   "execution_count": 18,
   "id": "65db6a6d-744e-4cc5-a808-dedc6201a7c0",
   "metadata": {},
   "outputs": [
    {
     "name": "stderr",
     "output_type": "stream",
     "text": [
      "Auto-assigning NUTS sampler...\n",
      "Initializing NUTS using jitter+adapt_diag...\n",
      "Multiprocess sampling (4 chains in 4 jobs)\n",
      "NUTS: [betas, intercepts, sigma]\n"
     ]
    },
    {
     "data": {
      "text/html": [
       "\n",
       "<style>\n",
       "    /* Turns off some styling */\n",
       "    progress {\n",
       "        /* gets rid of default border in Firefox and Opera. */\n",
       "        border: none;\n",
       "        /* Needs to be in here for Safari polyfill so background images work as expected. */\n",
       "        background-size: auto;\n",
       "    }\n",
       "    progress:not([value]), progress:not([value])::-webkit-progress-bar {\n",
       "        background: repeating-linear-gradient(45deg, #7e7e7e, #7e7e7e 10px, #5c5c5c 10px, #5c5c5c 20px);\n",
       "    }\n",
       "    .progress-bar-interrupted, .progress-bar-interrupted::-webkit-progress-bar {\n",
       "        background: #F44336;\n",
       "    }\n",
       "</style>\n"
      ],
      "text/plain": [
       "<IPython.core.display.HTML object>"
      ]
     },
     "metadata": {},
     "output_type": "display_data"
    },
    {
     "data": {
      "text/html": [
       "\n",
       "    <div>\n",
       "      <progress value='8000' class='' max='8000' style='width:300px; height:20px; vertical-align: middle;'></progress>\n",
       "      100.00% [8000/8000 56:31&lt;00:00 Sampling 4 chains, 0 divergences]\n",
       "    </div>\n",
       "    "
      ],
      "text/plain": [
       "<IPython.core.display.HTML object>"
      ]
     },
     "metadata": {},
     "output_type": "display_data"
    },
    {
     "name": "stderr",
     "output_type": "stream",
     "text": [
      "Sampling 4 chains for 1_000 tune and 1_000 draw iterations (4_000 + 4_000 draws total) took 3408 seconds.\n",
      "The rhat statistic is larger than 1.01 for some parameters. This indicates problems during sampling. See https://arxiv.org/abs/1903.08008 for details\n",
      "The effective sample size per chain is smaller than 100 for some parameters.  A higher number is needed for reliable rhat and ess computation. See https://arxiv.org/abs/1903.08008 for details\n",
      "Chain 0 reached the maximum tree depth. Increase `max_treedepth`, increase `target_accept` or reparameterize.\n",
      "Chain 1 reached the maximum tree depth. Increase `max_treedepth`, increase `target_accept` or reparameterize.\n",
      "Chain 2 reached the maximum tree depth. Increase `max_treedepth`, increase `target_accept` or reparameterize.\n",
      "Chain 3 reached the maximum tree depth. Increase `max_treedepth`, increase `target_accept` or reparameterize.\n"
     ]
    }
   ],
   "source": [
    "X = []\n",
    "y = []\n",
    "    \n",
    "for t in range(h, T):\n",
    "    X.append(data[t-h:t].flatten())\n",
    "    y.append(data[t])\n",
    "    \n",
    "X = np.array(X)\n",
    "y = np.array(y)\n",
    "\n",
    "with pm.Model() as model:\n",
    "    betas = pm.Normal(\"betas\", mu=0, sigma=10, shape=(h*D,D))\n",
    "    intercepts = pm.Normal(\"intercepts\", mu=0, sigma=10, shape=(D,))\n",
    "    sigma = pm.HalfNormal(\"sigma\", sigma=1)\n",
    "    \n",
    "    mu = pt.dot(X, betas) + intercepts\n",
    "    y_obs = pm.Normal(\"y_obs\", mu=mu, sigma=sigma, observed=y)\n",
    "\n",
    "    trace = pm.sample(return_inferencedata=True, target_accept=0.95)"
   ]
  },
  {
   "cell_type": "code",
   "execution_count": 19,
   "id": "1219c77a-6a1d-482a-9b72-512b5948bad9",
   "metadata": {},
   "outputs": [
    {
     "data": {
      "text/plain": [
       "array([[[286.20057111, 226.32225876],\n",
       "        [334.91758662, 210.7652796 ],\n",
       "        [ 68.12095809,  63.93669847],\n",
       "        [ 34.4765381 ,  31.72607054]],\n",
       "\n",
       "       [[286.69889465, 226.57669101],\n",
       "        [335.41402917, 211.11032646],\n",
       "        [ 68.23268781,  64.00719772],\n",
       "        [ 34.58090782,  31.79709828]],\n",
       "\n",
       "       [[286.72460265, 226.72434295],\n",
       "        [335.50979387, 211.31489161],\n",
       "        [ 68.25793629,  64.07371687],\n",
       "        [ 34.53864216,  31.78728682]],\n",
       "\n",
       "       [[286.99548097, 226.75784375],\n",
       "        [335.87099821, 211.28871138],\n",
       "        [ 68.35363772,  64.07369052],\n",
       "        [ 34.61381206,  31.87163995]],\n",
       "\n",
       "       [[287.41030477, 226.94954171],\n",
       "        [336.34865321, 211.50002141],\n",
       "        [ 68.47089567,  64.16338788],\n",
       "        [ 34.63203916,  31.79929243]],\n",
       "\n",
       "       [[287.42623198, 227.05323252],\n",
       "        [336.49369979, 211.65280278],\n",
       "        [ 68.52347884,  64.21415232],\n",
       "        [ 34.65776094,  31.89712059]],\n",
       "\n",
       "       [[287.70406754, 227.01792245],\n",
       "        [336.67841194, 211.4478832 ],\n",
       "        [ 68.50823503,  64.19149242],\n",
       "        [ 34.66207471,  31.84662068]]])"
      ]
     },
     "execution_count": 19,
     "metadata": {},
     "output_type": "execute_result"
    }
   ],
   "source": [
    "betas_post = trace.posterior[\"betas\"].mean(dim=[\"chain\", \"draw\"])\n",
    "intercepts_post = trace.posterior[\"intercepts\"].mean(dim=[\"chain\", \"draw\"])\n",
    "\n",
    "X_new = np.zeros((f, h*D))\n",
    "last_h_steps = data[-h:]\n",
    "predictions = np.zeros((f, D))\n",
    "\n",
    "for t in range(f):\n",
    "    X_new[t] = last_h_steps.flatten()\n",
    "    predictions[t] = np.dot(X_new[t], betas_post) + intercepts_post\n",
    "    last_h_steps = np.vstack([last_h_steps[1:], predictions[t]])\n",
    "\n",
    "predictions = predictions.reshape((f,D//2,2))\n",
    "predictions"
   ]
  },
  {
   "cell_type": "markdown",
   "id": "74e6912d-218d-47cc-9c39-13e9585a0363",
   "metadata": {},
   "source": [
    "#### results"
   ]
  },
  {
   "cell_type": "code",
   "execution_count": 20,
   "id": "d1e54ad4-3679-41bf-a176-e1b7b4d9fe6c",
   "metadata": {},
   "outputs": [
    {
     "data": {
      "text/plain": [
       "array([[[285.08782445, 226.35593399],\n",
       "        [333.51207395, 210.82476448],\n",
       "        [ 67.81355933,  63.9587202 ],\n",
       "        [ 34.34047957,  31.73911717]],\n",
       "\n",
       "       [[282.02632141, 223.33556313],\n",
       "        [329.78180072, 207.14461486],\n",
       "        [ 66.98374545,  63.14005405],\n",
       "        [ 33.91434925,  31.3187122 ]],\n",
       "\n",
       "       [[280.939363  , 227.91045409],\n",
       "        [328.45749724, 212.71880231],\n",
       "        [ 66.68913401,  64.38005446],\n",
       "        [ 33.76305164,  31.95549417]],\n",
       "\n",
       "       [[284.05250617, 221.50776946],\n",
       "        [332.2506046 , 204.91760932],\n",
       "        [ 67.53294283,  62.64464874],\n",
       "        [ 34.19637738,  31.06429449]],\n",
       "\n",
       "       [[283.82008646, 215.31442634],\n",
       "        [331.96739713, 197.37144083],\n",
       "        [ 67.46993389,  60.96596318],\n",
       "        [ 34.16402179,  30.20223722]],\n",
       "\n",
       "       [[285.51145892, 212.98253932],\n",
       "        [334.02823702, 194.53021157],\n",
       "        [ 67.92838777,  60.33392986],\n",
       "        [ 34.39945366,  29.87765492]],\n",
       "\n",
       "       [[278.36305142, 213.14718582],\n",
       "        [325.31838415, 194.73082155],\n",
       "        [ 65.99083021,  60.37855912],\n",
       "        [ 33.40445167,  29.90057985]]])"
      ]
     },
     "execution_count": 20,
     "metadata": {},
     "output_type": "execute_result"
    }
   ],
   "source": [
    "data_future = data_future[:7,:].reshape((f,D//2,2))\n",
    "data_future"
   ]
  },
  {
   "cell_type": "code",
   "execution_count": null,
   "id": "441fc6ac-769a-4ed4-b7cf-14b11a285959",
   "metadata": {},
   "outputs": [],
   "source": [
    "trace.to_netcdf(\"bayesian_model.nc\")"
   ]
  },
  {
   "cell_type": "code",
   "execution_count": null,
   "id": "7361f57c-4717-4b6b-b35d-13a3dbd38d7e",
   "metadata": {},
   "outputs": [],
   "source": []
  }
 ],
 "metadata": {
  "kernelspec": {
   "display_name": "Python 3 (ipykernel)",
   "language": "python",
   "name": "python3"
  },
  "language_info": {
   "codemirror_mode": {
    "name": "ipython",
    "version": 3
   },
   "file_extension": ".py",
   "mimetype": "text/x-python",
   "name": "python",
   "nbconvert_exporter": "python",
   "pygments_lexer": "ipython3",
   "version": "3.9.19"
  },
  "widgets": {
   "application/vnd.jupyter.widget-state+json": {
    "state": {},
    "version_major": 2,
    "version_minor": 0
   }
  }
 },
 "nbformat": 4,
 "nbformat_minor": 5
}
