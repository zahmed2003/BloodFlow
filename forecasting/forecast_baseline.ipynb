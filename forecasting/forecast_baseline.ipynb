{
 "cells": [
  {
   "cell_type": "code",
   "execution_count": 2,
   "id": "3d3f1894-7c63-467c-8886-ea72d18f40ee",
   "metadata": {},
   "outputs": [],
   "source": [
    "import pandas as pd, numpy as np\n",
    "import matplotlib.pyplot as plt\n",
    "from sklearn import linear_model \n",
    "from sklearn.metrics import mean_squared_error as mse_metric\n",
    "from statsmodels.graphics.tsaplots import plot_acf"
   ]
  },
  {
   "cell_type": "code",
   "execution_count": 3,
   "id": "454cc504-5d2f-45e5-8bfe-de7ab635485c",
   "metadata": {},
   "outputs": [
    {
     "data": {
      "text/plain": [
       "(2, 2801, 2)"
      ]
     },
     "execution_count": 3,
     "metadata": {},
     "output_type": "execute_result"
    }
   ],
   "source": [
    "data_directory = '../data/experiment_verysmall/'\n",
    "data = np.load(data_directory + 'network_params/data_network.npy')\n",
    "data = np.transpose(data, (1, 2, 0))\n",
    "data.shape"
   ]
  },
  {
   "cell_type": "code",
   "execution_count": 4,
   "id": "160d6a37-e2b6-42fd-aae7-905c3bda8360",
   "metadata": {},
   "outputs": [],
   "source": [
    "data_train = data[:,:-3*365,:]\n",
    "data_val = data[:,-3*365:-365,:]\n",
    "data_test = data[:,-365:,:]"
   ]
  },
  {
   "cell_type": "code",
   "execution_count": 5,
   "id": "299b441a-824c-441b-8000-66692bb562f0",
   "metadata": {},
   "outputs": [],
   "source": [
    "data_train_diff = np.diff(data_train, axis = 1)\n",
    "data_val_diff= np.diff(data_val, axis = 1)\n",
    "data_test_diff = np.diff(data_test, axis = 1)"
   ]
  },
  {
   "cell_type": "markdown",
   "id": "c41bd77e-ae4f-4dab-a087-bee1931e7584",
   "metadata": {},
   "source": [
    "### util"
   ]
  },
  {
   "cell_type": "code",
   "execution_count": 6,
   "id": "525d3f8b-ea66-4b65-ad76-371ab0f10f2c",
   "metadata": {},
   "outputs": [],
   "source": [
    "def get_mse(forecast, true_vals):\n",
    "    N, f , _ = forecast.shape\n",
    "    forecast = forecast.reshape(N, f * 2)\n",
    "    true_vals = true_vals.reshape(N, f * 2)\n",
    "    \n",
    "    return mse_metric(forecast, true_vals)\n",
    "\n",
    "def data_slice(data, h, f):\n",
    "    T = h + f\n",
    "    samples = np.array([data[:,t:t + T,:] for t in range(len(data[0]) - T + 1)])\n",
    "    return samples[:, :, :h, :], samples[:, : , h:, :]"
   ]
  },
  {
   "cell_type": "markdown",
   "id": "d5ebaf95-802f-4eff-95b9-18b58885c3cb",
   "metadata": {},
   "source": [
    "### Zero order hold forecaster"
   ]
  },
  {
   "cell_type": "code",
   "execution_count": 7,
   "id": "3f574fe8-2b71-4998-bd11-da8e79c711a0",
   "metadata": {},
   "outputs": [],
   "source": [
    "def get_ZOH_forecast(history, f=1):\n",
    "    forecast = np.tile(history[:, -1:, :], (1, f, 1))\n",
    "    return forecast\n",
    "\n",
    "def get_ZOH_forecast_rmse(hists, futures):\n",
    "    _,_,f,_ = futures.shape\n",
    "    forecasts = np.array([get_ZOH_forecast(hist, f=f) for hist in hists])\n",
    "    mse = np.mean([get_mse(forecasts[i], futures[i]) for i in range(len(futures))])\n",
    "    return np.sqrt(mse)"
   ]
  },
  {
   "cell_type": "code",
   "execution_count": 8,
   "id": "bf83c9dc-2299-43d3-920e-91c7c15b5f0b",
   "metadata": {},
   "outputs": [
    {
     "name": "stdout",
     "output_type": "stream",
     "text": [
      "6.103939246309808\n"
     ]
    }
   ],
   "source": [
    "h, f = 1, 7\n",
    "hist_val, future_val = data_slice(data_val, h = h, f = f)\n",
    "print(get_ZOH_forecast_rmse(hist_val, future_val))"
   ]
  },
  {
   "cell_type": "markdown",
   "id": "a36881e4-682c-45b9-b5f6-b729aee9d5ba",
   "metadata": {},
   "source": [
    "### hist mean forecast"
   ]
  },
  {
   "cell_type": "code",
   "execution_count": 9,
   "id": "6bf74f95-8960-44a2-8214-eacac0c1947f",
   "metadata": {},
   "outputs": [],
   "source": [
    "def get_histmean_forecast(history, f = 1):\n",
    "    hist_diff = np.diff(history, axis = 1)\n",
    "    mean_diff = np.mean(hist_diff, axis = 1, keepdims = True)\n",
    "    tile = history[:,-1]\n",
    "    slices = np.tile(np.arange(1,f+1), (len(history),1))\n",
    "    slices = np.array([slices, slices]).transpose(1,2,0)\n",
    "    add = np.tile(mean_diff,(1,f,1))*slices\n",
    "    forecast =  np.repeat(tile[:, np.newaxis, :],f, axis=1) + add\n",
    "    return forecast\n",
    "\n",
    "def get_histmean_forecast_rmse(hists, futures):\n",
    "    _,_,f,_ = futures.shape\n",
    "    forecasts = np.array([get_histmean_forecast(hist, f=f) for hist in hists])\n",
    "    mse = np.mean([get_mse(forecasts[i], futures[i]) for i in range(len(futures))])\n",
    "    return np.sqrt(mse)\n",
    "\n",
    "\n",
    "def histmean_hyperparam_search(data_train, data_val, h_range, f=3):\n",
    "    val_rmses = []\n",
    "    for h in h_range:\n",
    "        hist_val, future_val = data_slice(data_val, h = h, f = f)\n",
    "        val_rmses += [get_histmean_forecast_rmse(hist_val, future_val)]\n",
    "    return val_rmses"
   ]
  },
  {
   "cell_type": "code",
   "execution_count": 10,
   "id": "57ca9cdb-d96a-4cf6-91bd-12f12573fbf8",
   "metadata": {},
   "outputs": [],
   "source": [
    "f = 7\n",
    "h_vals = np.arange(2,50)\n",
    "hist_val, future_val = data_slice(data_val, h = h, f = f)\n",
    "rmses = histmean_hyperparam_search(data_train, data_val, h_vals, f=f)"
   ]
  },
  {
   "cell_type": "code",
   "execution_count": 11,
   "id": "6cd3b45b-a9ee-4e53-9a95-841831a8537e",
   "metadata": {},
   "outputs": [
    {
     "data": {
      "text/plain": [
       "[<matplotlib.lines.Line2D at 0x15d6148b0>]"
      ]
     },
     "execution_count": 11,
     "metadata": {},
     "output_type": "execute_result"
    },
    {
     "data": {
      "image/png": "[encoded data removed]",
      "text/plain": [
       "<Figure size 640x480 with 1 Axes>"
      ]
     },
     "metadata": {},
     "output_type": "display_data"
    }
   ],
   "source": [
    "plt.plot(h_vals, rmses)"
   ]
  },
  {
   "cell_type": "code",
   "execution_count": 12,
   "id": "14a5d001-fe47-442c-822c-e3770bc8f585",
   "metadata": {},
   "outputs": [
    {
     "data": {
      "text/plain": [
       "5.721378919654803"
      ]
     },
     "execution_count": 12,
     "metadata": {},
     "output_type": "execute_result"
    }
   ],
   "source": [
    "np.min(rmses)"
   ]
  },
  {
   "cell_type": "code",
   "execution_count": null,
   "id": "a4aa4623-305a-4de2-903f-48bb1d20b206",
   "metadata": {},
   "outputs": [],
   "source": []
  }
 ],
 "metadata": {
  "kernelspec": {
   "display_name": "Python 3 (ipykernel)",
   "language": "python",
   "name": "python3"
  },
  "language_info": {
   "codemirror_mode": {
    "name": "ipython",
    "version": 3
   },
   "file_extension": ".py",
   "mimetype": "text/x-python",
   "name": "python",
   "nbconvert_exporter": "python",
   "pygments_lexer": "ipython3",
   "version": "3.9.19"
  },
  "widgets": {
   "application/vnd.jupyter.widget-state+json": {
    "state": {},
    "version_major": 2,
    "version_minor": 0
   }
  }
 },
 "nbformat": 4,
 "nbformat_minor": 5
}
